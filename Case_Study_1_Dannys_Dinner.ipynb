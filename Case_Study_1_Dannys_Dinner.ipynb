{
 "metadata": {
  "language_info": {
   "codemirror_mode": {
    "name": "ipython",
    "version": 3
   },
   "file_extension": ".py",
   "mimetype": "text/x-python",
   "name": "python",
   "nbconvert_exporter": "python",
   "pygments_lexer": "ipython3",
   "version": "3.9.5"
  },
  "orig_nbformat": 2,
  "kernelspec": {
   "name": "python3",
   "display_name": "Python 3.9.5 64-bit",
   "metadata": {
    "interpreter": {
     "hash": "dcacb0086e9a4f4eabd41c33bf4faac5ea0a3337ed3f5eff0680afa930572c04"
    }
   }
  }
 },
 "nbformat": 4,
 "nbformat_minor": 2,
 "cells": [
  {
   "source": [
    "# CASE STUDY #1 - DANNY'S DINER"
   ],
   "cell_type": "markdown",
   "metadata": {}
  },
  {
   "source": [
    "[![View Main Folder](https://img.shields.io/badge/View-Main_Folder-971901?)](https://github.com/phamdinhtuan200382/8-Week-SQL-Challenge)\n",
    "[![View Repositories](https://img.shields.io/badge/View-My_Repositories-blue?logo=GitHub)](https://github.com/phamdinhtuan200382/8-Week-SQL-Challenge/tree/main/Case_Study_1_Dannys_Dinner.ipynb-1)\n",
    "[![View My Profile](https://img.shields.io/badge/View-My_Profile-green?logo=GitHub)](https://github.com/phamdinhtuan200382)"
   ],
   "cell_type": "markdown",
   "metadata": {}
  },
  {
   "source": [
    "## Problem Statement\n",
    "---\n",
    "Danny seriously loves Japanese food so in the beginning of 2021, he decides to embark upon a risky venture and opens up a cute little restaurant that sells his 3 favourite foods: sushi, curry and ramen. \n",
    "Danny wants to use the data to answer a few simple questions about his customers.  He plans on using these insights to help him decide whether he should expand the existing customer loyalty program.\n",
    "\n",
    "\n",
    "Danny has provided you with a sample of his overall customer data due to privacy issues - but he hopes that these examples are enough for you to write fully functioning SQL queries to help him answer his questions!"
   ],
   "cell_type": "markdown",
   "metadata": {}
  },
  {
   "source": [
    "## Import SQLite and Load to Use\n",
    "---"
   ],
   "cell_type": "markdown",
   "metadata": {}
  },
  {
   "cell_type": "code",
   "execution_count": 2,
   "metadata": {},
   "outputs": [],
   "source": [
    "import sqlite3"
   ]
  },
  {
   "cell_type": "code",
   "execution_count": 3,
   "metadata": {},
   "outputs": [],
   "source": [
    "%load_ext sql\n",
    "%sql sqlite://\n"
   ]
  },
  {
   "source": [
    "## Dataset\n",
    "---\n",
    "Danny has shared with you 3 key datasets for this case study:\n",
    "* sales\n",
    "* menu\n",
    "* members"
   ],
   "cell_type": "markdown",
   "metadata": {}
  },
  {
   "source": [
    "This is entity relationship diagram\n",
    "<p align=\"center\">\n",
    "<img src=\"..\\8-Week-SQL-Challenge\\Image\\entity_relationship_diagram.png\">"
   ],
   "cell_type": "markdown",
   "metadata": {}
  },
  {
   "source": [
    "## Table 1: sales\n",
    "\n",
    "The sales table captures all ```customer_id``` level purchases with an corresponding ```order_date``` and ```product_id``` information for when and what menu items were ordered"
   ],
   "cell_type": "markdown",
   "metadata": {}
  },
  {
   "cell_type": "code",
   "execution_count": 4,
   "metadata": {},
   "outputs": [
    {
     "output_type": "stream",
     "name": "stdout",
     "text": [
      " * sqlite://\nDone.\n15 rows affected.\n"
     ]
    },
    {
     "output_type": "execute_result",
     "data": {
      "text/plain": [
       "[]"
      ]
     },
     "metadata": {},
     "execution_count": 4
    }
   ],
   "source": [
    "%%sql\n",
    "CREATE TABLE sales (\n",
    "  \"customer_id\" VARCHAR(1),\n",
    "  \"order_date\" DATE,\n",
    "  \"product_id\" INTEGER\n",
    ");\n",
    "\n",
    "INSERT INTO sales\n",
    "  (\"customer_id\", \"order_date\", \"product_id\")\n",
    "VALUES\n",
    "  ('A', '2021-01-01', '1'),\n",
    "  ('A', '2021-01-01', '2'),\n",
    "  ('A', '2021-01-07', '2'),\n",
    "  ('A', '2021-01-10', '3'),\n",
    "  ('A', '2021-01-11', '3'),\n",
    "  ('A', '2021-01-11', '3'),\n",
    "  ('B', '2021-01-01', '2'),\n",
    "  ('B', '2021-01-02', '2'),\n",
    "  ('B', '2021-01-04', '1'),\n",
    "  ('B', '2021-01-11', '1'),\n",
    "  ('B', '2021-01-16', '3'),\n",
    "  ('B', '2021-02-01', '3'),\n",
    "  ('C', '2021-01-01', '3'),\n",
    "  ('C', '2021-01-01', '3'),\n",
    "  ('C', '2021-01-07', '3');"
   ]
  },
  {
   "cell_type": "code",
   "execution_count": 5,
   "metadata": {},
   "outputs": [
    {
     "output_type": "stream",
     "name": "stdout",
     "text": [
      " * sqlite://\nDone.\n"
     ]
    },
    {
     "output_type": "execute_result",
     "data": {
      "text/plain": [
       "[('A', '2021-01-01', 1),\n",
       " ('A', '2021-01-01', 2),\n",
       " ('A', '2021-01-07', 2),\n",
       " ('A', '2021-01-10', 3),\n",
       " ('A', '2021-01-11', 3),\n",
       " ('A', '2021-01-11', 3),\n",
       " ('B', '2021-01-01', 2),\n",
       " ('B', '2021-01-02', 2),\n",
       " ('B', '2021-01-04', 1),\n",
       " ('B', '2021-01-11', 1),\n",
       " ('B', '2021-01-16', 3),\n",
       " ('B', '2021-02-01', 3),\n",
       " ('C', '2021-01-01', 3),\n",
       " ('C', '2021-01-01', 3),\n",
       " ('C', '2021-01-07', 3)]"
      ],
      "text/html": "<table>\n    <tr>\n        <th>customer_id</th>\n        <th>order_date</th>\n        <th>product_id</th>\n    </tr>\n    <tr>\n        <td>A</td>\n        <td>2021-01-01</td>\n        <td>1</td>\n    </tr>\n    <tr>\n        <td>A</td>\n        <td>2021-01-01</td>\n        <td>2</td>\n    </tr>\n    <tr>\n        <td>A</td>\n        <td>2021-01-07</td>\n        <td>2</td>\n    </tr>\n    <tr>\n        <td>A</td>\n        <td>2021-01-10</td>\n        <td>3</td>\n    </tr>\n    <tr>\n        <td>A</td>\n        <td>2021-01-11</td>\n        <td>3</td>\n    </tr>\n    <tr>\n        <td>A</td>\n        <td>2021-01-11</td>\n        <td>3</td>\n    </tr>\n    <tr>\n        <td>B</td>\n        <td>2021-01-01</td>\n        <td>2</td>\n    </tr>\n    <tr>\n        <td>B</td>\n        <td>2021-01-02</td>\n        <td>2</td>\n    </tr>\n    <tr>\n        <td>B</td>\n        <td>2021-01-04</td>\n        <td>1</td>\n    </tr>\n    <tr>\n        <td>B</td>\n        <td>2021-01-11</td>\n        <td>1</td>\n    </tr>\n    <tr>\n        <td>B</td>\n        <td>2021-01-16</td>\n        <td>3</td>\n    </tr>\n    <tr>\n        <td>B</td>\n        <td>2021-02-01</td>\n        <td>3</td>\n    </tr>\n    <tr>\n        <td>C</td>\n        <td>2021-01-01</td>\n        <td>3</td>\n    </tr>\n    <tr>\n        <td>C</td>\n        <td>2021-01-01</td>\n        <td>3</td>\n    </tr>\n    <tr>\n        <td>C</td>\n        <td>2021-01-07</td>\n        <td>3</td>\n    </tr>\n</table>"
     },
     "metadata": {},
     "execution_count": 5
    }
   ],
   "source": [
    "%%sql\n",
    "SELECT * FROM sales"
   ]
  },
  {
   "source": [
    "## Table 2: menu\n",
    "The menu table maps the product_id to the actual product_name and price of each menu item."
   ],
   "cell_type": "markdown",
   "metadata": {}
  },
  {
   "cell_type": "code",
   "execution_count": 6,
   "metadata": {},
   "outputs": [
    {
     "output_type": "stream",
     "name": "stdout",
     "text": [
      " * sqlite://\nDone.\n3 rows affected.\n"
     ]
    },
    {
     "output_type": "execute_result",
     "data": {
      "text/plain": [
       "[]"
      ]
     },
     "metadata": {},
     "execution_count": 6
    }
   ],
   "source": [
    "%%sql\n",
    "CREATE TABLE menu (\n",
    "  \"product_id\" INTEGER,\n",
    "  \"product_name\" VARCHAR(5),\n",
    "  \"price\" INTEGER\n",
    ");\n",
    "\n",
    "INSERT INTO menu\n",
    "  (\"product_id\", \"product_name\", \"price\")\n",
    "VALUES\n",
    "  ('1', 'sushi', '10'),\n",
    "  ('2', 'curry', '15'),\n",
    "  ('3', 'ramen', '12');"
   ]
  },
  {
   "cell_type": "code",
   "execution_count": 7,
   "metadata": {},
   "outputs": [
    {
     "output_type": "stream",
     "name": "stdout",
     "text": [
      " * sqlite://\nDone.\n"
     ]
    },
    {
     "output_type": "execute_result",
     "data": {
      "text/plain": [
       "[(1, 'sushi', 10), (2, 'curry', 15), (3, 'ramen', 12)]"
      ],
      "text/html": "<table>\n    <tr>\n        <th>product_id</th>\n        <th>product_name</th>\n        <th>price</th>\n    </tr>\n    <tr>\n        <td>1</td>\n        <td>sushi</td>\n        <td>10</td>\n    </tr>\n    <tr>\n        <td>2</td>\n        <td>curry</td>\n        <td>15</td>\n    </tr>\n    <tr>\n        <td>3</td>\n        <td>ramen</td>\n        <td>12</td>\n    </tr>\n</table>"
     },
     "metadata": {},
     "execution_count": 7
    }
   ],
   "source": [
    "%%sql\n",
    "SELECT * FROM menu "
   ]
  },
  {
   "source": [
    "## Table 3: members\n",
    "The final members table captures the join_date when a customer_id joined the beta version of the Danny’s Diner loyalty program."
   ],
   "cell_type": "markdown",
   "metadata": {}
  },
  {
   "cell_type": "code",
   "execution_count": 8,
   "metadata": {},
   "outputs": [
    {
     "output_type": "stream",
     "name": "stdout",
     "text": [
      " * sqlite://\nDone.\n2 rows affected.\n"
     ]
    },
    {
     "output_type": "execute_result",
     "data": {
      "text/plain": [
       "[]"
      ]
     },
     "metadata": {},
     "execution_count": 8
    }
   ],
   "source": [
    "%%sql\n",
    "CREATE TABLE members (\n",
    "  \"customer_id\" VARCHAR(1),\n",
    "  \"join_date\" DATE\n",
    ");\n",
    "\n",
    "INSERT INTO members\n",
    "  (\"customer_id\", \"join_date\")\n",
    "VALUES\n",
    "  ('A', '2021-01-07'),\n",
    "  ('B', '2021-01-09');"
   ]
  },
  {
   "cell_type": "code",
   "execution_count": 9,
   "metadata": {},
   "outputs": [
    {
     "output_type": "stream",
     "name": "stdout",
     "text": [
      " * sqlite://\nDone.\n"
     ]
    },
    {
     "output_type": "execute_result",
     "data": {
      "text/plain": [
       "[('A', '2021-01-07'), ('B', '2021-01-09')]"
      ],
      "text/html": "<table>\n    <tr>\n        <th>customer_id</th>\n        <th>join_date</th>\n    </tr>\n    <tr>\n        <td>A</td>\n        <td>2021-01-07</td>\n    </tr>\n    <tr>\n        <td>B</td>\n        <td>2021-01-09</td>\n    </tr>\n</table>"
     },
     "metadata": {},
     "execution_count": 9
    }
   ],
   "source": [
    "%%sql\n",
    "SELECT * FROM members"
   ]
  },
  {
   "source": [
    "## Case Study Questions\n",
    "---\n",
    "Each of the following case study questions can be answered using a single SQL statement:\n",
    "\n",
    "1. What is the total amount each customer spent at the restaurant?\n",
    "2. How many days has each customer visited the restaurant?\n",
    "3. What was the first item from the menu purchased by each customer?\n",
    "4. What is the most purchased item on the menu and how many times was it purchased by all customers?\n",
    "5. Which item was the most popular for each customer?\n",
    "6. Which item was purchased first by the customer after they became a member?\n",
    "7. Which item was purchased just before the customer became a member?\n",
    "8. What is the total items and amount spent for each member before they became a member?\n",
    "9. If each $1 spent equates to 10 points and sushi has a 2x points multiplier - how many points would each customer have?\n",
    "10. In the first week after a customer joins the program (including their join date) they earn 2x points on all items, not just sushi - how many points do customer A and B have at the end of January?"
   ],
   "cell_type": "markdown",
   "metadata": {}
  },
  {
   "source": [
    "## Solution\n",
    "---"
   ],
   "cell_type": "markdown",
   "metadata": {}
  },
  {
   "source": [
    "### 1. What is the total amount each customer spent at the restaurant?"
   ],
   "cell_type": "markdown",
   "metadata": {}
  },
  {
   "cell_type": "code",
   "execution_count": 10,
   "metadata": {},
   "outputs": [
    {
     "output_type": "stream",
     "name": "stdout",
     "text": [
      " * sqlite://\nDone.\n"
     ]
    },
    {
     "output_type": "execute_result",
     "data": {
      "text/plain": [
       "[('A', 76), ('B', 74), ('C', 36)]"
      ],
      "text/html": "<table>\n    <tr>\n        <th>customer_id</th>\n        <th>total_spent</th>\n    </tr>\n    <tr>\n        <td>A</td>\n        <td>76</td>\n    </tr>\n    <tr>\n        <td>B</td>\n        <td>74</td>\n    </tr>\n    <tr>\n        <td>C</td>\n        <td>36</td>\n    </tr>\n</table>"
     },
     "metadata": {},
     "execution_count": 10
    }
   ],
   "source": [
    "%%sql\n",
    "SELECT \n",
    "\tsales.customer_id,\n",
    "  SUM(menu.price) AS total_spent\n",
    "FROM sales\n",
    "JOIN menu\n",
    "\tON sales.product_id = menu.product_id\n",
    "GROUP BY customer_id\n",
    "ORDER BY customer_id"
   ]
  },
  {
   "source": [
    "<p style=\"color:pink\"> <u>Answer-01</u>:\n",
    "\n",
    "- Customer A spent $76\n",
    "- Customer B spent $74\n",
    "- Customer C spent $36"
   ],
   "cell_type": "markdown",
   "metadata": {}
  },
  {
   "source": [
    "### 2. How many days has each customer visited the restaurant?"
   ],
   "cell_type": "markdown",
   "metadata": {}
  },
  {
   "cell_type": "code",
   "execution_count": 11,
   "metadata": {},
   "outputs": [
    {
     "output_type": "stream",
     "name": "stdout",
     "text": [
      " * sqlite://\nDone.\n"
     ]
    },
    {
     "output_type": "execute_result",
     "data": {
      "text/plain": [
       "[('A', 4), ('B', 6), ('C', 2)]"
      ],
      "text/html": "<table>\n    <tr>\n        <th>customer_id</th>\n        <th>no_of_visit</th>\n    </tr>\n    <tr>\n        <td>A</td>\n        <td>4</td>\n    </tr>\n    <tr>\n        <td>B</td>\n        <td>6</td>\n    </tr>\n    <tr>\n        <td>C</td>\n        <td>2</td>\n    </tr>\n</table>"
     },
     "metadata": {},
     "execution_count": 11
    }
   ],
   "source": [
    "%%sql\n",
    "SELECT customer_id, COUNT(DISTINCT(order_date)) AS no_of_visit\n",
    "FROM sales\n",
    "GROUP BY customer_id"
   ]
  },
  {
   "source": [
    "<p style=\"color:pink\"> <u>Answer-02</u>:\n",
    "\n",
    "- Customer A has visited 4 days\n",
    "- Customer B has visited 6 days\n",
    "- Customer C has visited 2 days"
   ],
   "cell_type": "markdown",
   "metadata": {}
  },
  {
   "source": [
    "### 3. What was the first item from the menu purchased by each customer?"
   ],
   "cell_type": "markdown",
   "metadata": {}
  },
  {
   "cell_type": "code",
   "execution_count": 12,
   "metadata": {},
   "outputs": [
    {
     "output_type": "stream",
     "name": "stdout",
     "text": [
      " * sqlite://\nDone.\n"
     ]
    },
    {
     "output_type": "execute_result",
     "data": {
      "text/plain": [
       "[('2021-01-01', 'A', 'sushi'),\n",
       " ('2021-01-01', 'B', 'curry'),\n",
       " ('2021-01-01', 'C', 'ramen')]"
      ],
      "text/html": "<table>\n    <tr>\n        <th>order_date</th>\n        <th>customer_id</th>\n        <th>product_name</th>\n    </tr>\n    <tr>\n        <td>2021-01-01</td>\n        <td>A</td>\n        <td>sushi</td>\n    </tr>\n    <tr>\n        <td>2021-01-01</td>\n        <td>B</td>\n        <td>curry</td>\n    </tr>\n    <tr>\n        <td>2021-01-01</td>\n        <td>C</td>\n        <td>ramen</td>\n    </tr>\n</table>"
     },
     "metadata": {},
     "execution_count": 12
    }
   ],
   "source": [
    "%%sql\n",
    "SELECT s.order_date, s.customer_id, m.product_name\n",
    "FROM sales s\n",
    "JOIN menu m\n",
    "ON s.product_id =m.product_id\n",
    "GROUP BY s.customer_id\n",
    "ORDER BY s.customer_id ASC\n"
   ]
  },
  {
   "source": [
    "<p style=\"color:pink\"> <u>Answer-03</u>:\n",
    "\n",
    "First item purchased by:\n",
    "- Customer A is sushi\n",
    "- Customer B is curry\n",
    "- Customer C is ramen"
   ],
   "cell_type": "markdown",
   "metadata": {}
  },
  {
   "source": [
    "### 4. What is the most purchased item on the menu and how many times was it purchased by all customers?"
   ],
   "cell_type": "markdown",
   "metadata": {}
  },
  {
   "cell_type": "code",
   "execution_count": 13,
   "metadata": {},
   "outputs": [
    {
     "output_type": "stream",
     "name": "stdout",
     "text": [
      " * sqlite://\nDone.\n"
     ]
    },
    {
     "output_type": "execute_result",
     "data": {
      "text/plain": [
       "[('ramen', 8)]"
      ],
      "text/html": "<table>\n    <tr>\n        <th>product_name</th>\n        <th>times</th>\n    </tr>\n    <tr>\n        <td>ramen</td>\n        <td>8</td>\n    </tr>\n</table>"
     },
     "metadata": {},
     "execution_count": 13
    }
   ],
   "source": [
    "%%sql\n",
    "SELECT m.product_name, COUNT(s.product_id) AS  times\n",
    "FROM sales s\n",
    "JOIN menu m\n",
    "ON s.product_id = m.product_id\n",
    "GROUP BY m.product_name\n",
    "ORDER BY times DESC\n",
    "LIMIT 1"
   ]
  },
  {
   "source": [
    "<p style=\"color:pink\"> <u>Answer-04</u>:\n",
    "\n",
    "- Most purchased item was ramen and it was ordered 8 times"
   ],
   "cell_type": "markdown",
   "metadata": {}
  },
  {
   "source": [
    "### 5.Which item was the most popular for each customer?"
   ],
   "cell_type": "markdown",
   "metadata": {}
  },
  {
   "cell_type": "code",
   "execution_count": 14,
   "metadata": {},
   "outputs": [
    {
     "output_type": "stream",
     "name": "stdout",
     "text": [
      " * sqlite://\n",
      "Done.\n"
     ]
    },
    {
     "output_type": "execute_result",
     "data": {
      "text/plain": [
       "[('A', 'ramen'),\n",
       " ('B', 'sushi'),\n",
       " ('B', 'ramen'),\n",
       " ('B', 'curry'),\n",
       " ('C', 'ramen')]"
      ],
      "text/html": "<table>\n    <tr>\n        <th>customer_id</th>\n        <th>popular_items</th>\n    </tr>\n    <tr>\n        <td>A</td>\n        <td>ramen</td>\n    </tr>\n    <tr>\n        <td>B</td>\n        <td>sushi</td>\n    </tr>\n    <tr>\n        <td>B</td>\n        <td>ramen</td>\n    </tr>\n    <tr>\n        <td>B</td>\n        <td>curry</td>\n    </tr>\n    <tr>\n        <td>C</td>\n        <td>ramen</td>\n    </tr>\n</table>"
     },
     "metadata": {},
     "execution_count": 14
    }
   ],
   "source": [
    "%%sql\n",
    "WITH rank_items AS\n",
    "(\n",
    "    SELECT s.customer_id, m.product_name, COUNT(s.product_id),\n",
    "\tRANK() OVER(PARTITION BY s.customer_id ORDER BY COUNT(s.product_id) DESC) AS rank\n",
    "\tFROM sales s\n",
    "\tJOIN menu m\n",
    "    ON s.product_id = m.product_id\n",
    "\tGROUP BY s.customer_id, m.product_name\n",
    ")\n",
    "SELECT r.customer_id, r.product_name as popular_items\n",
    "FROM rank_items r\n",
    "WHERE rank = 1"
   ]
  },
  {
   "source": [
    "<p style=\"color:pink\"> <u>Answer-05</u>:\n",
    "\n",
    "Most popular item for:\n",
    "- Customer A was Ramen\n",
    "- Customer B was a tie between all three menu items\n",
    "- Customer C was ramen"
   ],
   "cell_type": "markdown",
   "metadata": {}
  },
  {
   "source": [
    "### 6. Which item was purchased first by the customer after they became a member?"
   ],
   "cell_type": "markdown",
   "metadata": {}
  },
  {
   "cell_type": "code",
   "execution_count": 15,
   "metadata": {},
   "outputs": [
    {
     "output_type": "stream",
     "name": "stdout",
     "text": [
      " * sqlite://\nDone.\n"
     ]
    },
    {
     "output_type": "execute_result",
     "data": {
      "text/plain": [
       "[('A', 'ramen'), ('B', 'sushi')]"
      ],
      "text/html": "<table>\n    <tr>\n        <th>customer_id</th>\n        <th>product_name</th>\n    </tr>\n    <tr>\n        <td>A</td>\n        <td>ramen</td>\n    </tr>\n    <tr>\n        <td>B</td>\n        <td>sushi</td>\n    </tr>\n</table>"
     },
     "metadata": {},
     "execution_count": 15
    }
   ],
   "source": [
    "%%sql\n",
    "WITH rank_items AS\n",
    "(\n",
    "    SELECT s.customer_id, s.order_date, mem.join_date ,m.product_name,\n",
    "    RANK() OVER(PARTITION BY s.customer_id ORDER BY s.order_date ASC) AS rank\n",
    "    FROM sales s\n",
    "    JOIN menu m\n",
    "    ON s.product_id = m.product_id\n",
    "    JOIN members mem\n",
    "    ON s.customer_id = mem.customer_id\n",
    "    WHERE s.order_date > mem.join_date\n",
    ")\n",
    "SELECT r.customer_id, r.product_name\n",
    "FROM rank_items r\n",
    "WHERE r.rank =1"
   ]
  },
  {
   "source": [
    "<p style=\"color:pink\"> <u>Answer-06</u>:\n",
    "\n",
    "Only A and B are in membership and first product ordered after becoming a member for:\n",
    "- Customer A is ramen\n",
    "- Customer B is sushi"
   ],
   "cell_type": "markdown",
   "metadata": {}
  },
  {
   "source": [
    "### 7.Which item was purchased just before the customer became a member?"
   ],
   "cell_type": "markdown",
   "metadata": {}
  },
  {
   "cell_type": "code",
   "execution_count": 16,
   "metadata": {},
   "outputs": [
    {
     "output_type": "stream",
     "name": "stdout",
     "text": [
      " * sqlite://\nDone.\n"
     ]
    },
    {
     "output_type": "execute_result",
     "data": {
      "text/plain": [
       "[('A', 'sushi'), ('A', 'curry'), ('B', 'curry')]"
      ],
      "text/html": "<table>\n    <tr>\n        <th>customer_id</th>\n        <th>product_name</th>\n    </tr>\n    <tr>\n        <td>A</td>\n        <td>sushi</td>\n    </tr>\n    <tr>\n        <td>A</td>\n        <td>curry</td>\n    </tr>\n    <tr>\n        <td>B</td>\n        <td>curry</td>\n    </tr>\n</table>"
     },
     "metadata": {},
     "execution_count": 16
    }
   ],
   "source": [
    "%%sql\n",
    "WITH rank_items AS\n",
    "(\n",
    "    SELECT s.customer_id, s.order_date, mem.join_date ,m.product_name,\n",
    "    RANK() OVER(PARTITION BY s.customer_id ORDER BY s.order_date ASC) AS rank\n",
    "    FROM sales s\n",
    "    JOIN menu m\n",
    "    ON s.product_id = m.product_id\n",
    "    JOIN members mem\n",
    "    ON s.customer_id = mem.customer_id\n",
    "    WHERE s.order_date < mem.join_date\n",
    ")\n",
    "SELECT r.customer_id, r.product_name\n",
    "FROM rank_items r\n",
    "WHERE r.rank =1"
   ]
  },
  {
   "source": [
    "<p style=\"color:pink\"> <u>Answer-07</u>:\n",
    "\n",
    "Last item purchased before becoming a member for:\n",
    "- Customer A was curry and sushi (iteams were purchased in a same day)\n",
    "- Customer B was sushi\n"
   ],
   "cell_type": "markdown",
   "metadata": {}
  },
  {
   "source": [
    "### 8. What is the total items and amount spent for each member before they became a member?"
   ],
   "cell_type": "markdown",
   "metadata": {}
  },
  {
   "cell_type": "code",
   "execution_count": 26,
   "metadata": {},
   "outputs": [
    {
     "output_type": "stream",
     "name": "stdout",
     "text": [
      " * sqlite://\nDone.\n"
     ]
    },
    {
     "output_type": "execute_result",
     "data": {
      "text/plain": [
       "[('A', 2, 25), ('B', 3, 40)]"
      ],
      "text/html": "<table>\n    <tr>\n        <th>customer_id</th>\n        <th>count_items</th>\n        <th>total_price</th>\n    </tr>\n    <tr>\n        <td>A</td>\n        <td>2</td>\n        <td>25</td>\n    </tr>\n    <tr>\n        <td>B</td>\n        <td>3</td>\n        <td>40</td>\n    </tr>\n</table>"
     },
     "metadata": {},
     "execution_count": 26
    }
   ],
   "source": [
    "%%sql\n",
    "SELECT s.customer_id, COUNT(m.product_name) AS count_items, SUM(m.price) AS total_price\n",
    "FROM sales s\n",
    "JOIN menu m\n",
    "ON s.product_id = m.product_id\n",
    "JOIN members mem\n",
    "ON s.customer_id = mem.customer_id\n",
    "WHERE s.order_date < mem.join_date\n",
    "GROUP BY s.customer_id"
   ]
  },
  {
   "source": [
    "\n"
   ],
   "cell_type": "markdown",
   "metadata": {}
  },
  {
   "source": [
    "**Notes**\n",
    "<p style=\"color:pink;\">ERROR: Setting focus didn't work for me when I tried from jupyter. However it worked well when I ran it from the terminal</p>"
   ],
   "cell_type": "markdown",
   "metadata": {}
  }
 ]
}