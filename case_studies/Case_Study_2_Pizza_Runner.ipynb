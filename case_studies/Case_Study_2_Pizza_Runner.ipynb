{
 "metadata": {
  "language_info": {
   "codemirror_mode": {
    "name": "ipython",
    "version": 3
   },
   "file_extension": ".py",
   "mimetype": "text/x-python",
   "name": "python",
   "nbconvert_exporter": "python",
   "pygments_lexer": "ipython3",
   "version": "3.9.5"
  },
  "orig_nbformat": 2,
  "kernelspec": {
   "name": "python3",
   "display_name": "Python 3.9.5 64-bit",
   "metadata": {
    "interpreter": {
     "hash": "dcacb0086e9a4f4eabd41c33bf4faac5ea0a3337ed3f5eff0680afa930572c04"
    }
   }
  }
 },
 "nbformat": 4,
 "nbformat_minor": 2,
 "cells": [
  {
   "source": [
    "# Case Study #2 - Pizza Runner\n"
   ],
   "cell_type": "markdown",
   "metadata": {}
  },
  {
   "source": [
    "<p align=\"center\">\n",
    "<img src=\"https://8weeksqlchallenge.com/images/case-study-designs/2.png\" style=\"border-radius:10%\" width=\"30%\" height=\"30%\">"
   ],
   "cell_type": "markdown",
   "metadata": {}
  },
  {
   "source": [
    "## Problem Statement\n",
    "---\n",
    "Danny seriously loves Japanese food so in the beginning of 2021, he decides to embark upon a risky venture and opens up a cute little restaurant that sells his 3 favourite foods: sushi, curry and ramen. \n",
    "Danny wants to use the data to answer a few simple questions about his customers.  He plans on using these insights to help him decide whether he should expand the existing customer loyalty program.\n",
    "\n",
    "\n",
    "Danny has provided you with a sample of his overall customer data due to privacy issues - but he hopes that these examples are enough for you to write fully functioning SQL queries to help him answer his questions!"
   ],
   "cell_type": "markdown",
   "metadata": {}
  },
  {
   "source": [
    "## Import Modules and Load to Use\n",
    "---"
   ],
   "cell_type": "markdown",
   "metadata": {}
  },
  {
   "cell_type": "code",
   "execution_count": 17,
   "metadata": {},
   "outputs": [],
   "source": [
    "import pandas as pd\n",
    "import duckdb\n",
    "from datetime import datetime, timedelta"
   ]
  },
  {
   "cell_type": "code",
   "execution_count": 18,
   "metadata": {},
   "outputs": [],
   "source": [
    "con = duckdb.connect(database=':memory:', read_only=False) # -> Tạo DB connection"
   ]
  },
  {
   "source": [
    "## Dataset\n",
    "---\n",
    "Danny has shared with you 3 key datasets for this case study:\n",
    "* runner_orders\n",
    "* customer_orders\n",
    "* runner\n",
    "* pizza_names\n",
    "* pizza_recipes\n",
    "* pizza_toppings\n"
   ],
   "cell_type": "markdown",
   "metadata": {}
  },
  {
   "source": [],
   "cell_type": "markdown",
   "metadata": {}
  },
  {
   "source": [
    "This is entity relationship diagram  \n",
    "<p align=\"center\">\n",
    "<img src=\"../Image/entity_relationship_diagram_case_study_2.png\">"
   ],
   "cell_type": "markdown",
   "metadata": {}
  },
  {
   "source": [
    "## Table 1: runners\n",
    "\n",
    "The runners table shows ```the registration_date``` for each new runner"
   ],
   "cell_type": "markdown",
   "metadata": {}
  },
  {
   "cell_type": "code",
   "execution_count": 19,
   "metadata": {},
   "outputs": [
    {
     "output_type": "execute_result",
     "data": {
      "text/plain": [
       "   Count\n",
       "0      4"
      ],
      "text/html": "<div>\n<style scoped>\n    .dataframe tbody tr th:only-of-type {\n        vertical-align: middle;\n    }\n\n    .dataframe tbody tr th {\n        vertical-align: top;\n    }\n\n    .dataframe thead th {\n        text-align: right;\n    }\n</style>\n<table border=\"1\" class=\"dataframe\">\n  <thead>\n    <tr style=\"text-align: right;\">\n      <th></th>\n      <th>Count</th>\n    </tr>\n  </thead>\n  <tbody>\n    <tr>\n      <th>0</th>\n      <td>4</td>\n    </tr>\n  </tbody>\n</table>\n</div>"
     },
     "metadata": {},
     "execution_count": 19
    }
   ],
   "source": [
    "runners = '''\n",
    "CREATE TABLE runners (\n",
    "  \"runner_id\" INTEGER,\n",
    "  \"registration_date\" DATE\n",
    ");\n",
    "INSERT INTO runners\n",
    "  (\"runner_id\", \"registration_date\")\n",
    "VALUES\n",
    "  (1, '2021-01-01'),\n",
    "  (2, '2021-01-03'),\n",
    "  (3, '2021-01-08'),\n",
    "  (4, '2021-01-15');\n",
    "  '''\n",
    "con.execute(runners).fetch_df()"
   ]
  },
  {
   "cell_type": "code",
   "execution_count": 20,
   "metadata": {},
   "outputs": [
    {
     "output_type": "execute_result",
     "data": {
      "text/plain": [
       "   runner_id registration_date\n",
       "0          1        2021-01-01\n",
       "1          2        2021-01-03\n",
       "2          3        2021-01-08\n",
       "3          4        2021-01-15"
      ],
      "text/html": "<div>\n<style scoped>\n    .dataframe tbody tr th:only-of-type {\n        vertical-align: middle;\n    }\n\n    .dataframe tbody tr th {\n        vertical-align: top;\n    }\n\n    .dataframe thead th {\n        text-align: right;\n    }\n</style>\n<table border=\"1\" class=\"dataframe\">\n  <thead>\n    <tr style=\"text-align: right;\">\n      <th></th>\n      <th>runner_id</th>\n      <th>registration_date</th>\n    </tr>\n  </thead>\n  <tbody>\n    <tr>\n      <th>0</th>\n      <td>1</td>\n      <td>2021-01-01</td>\n    </tr>\n    <tr>\n      <th>1</th>\n      <td>2</td>\n      <td>2021-01-03</td>\n    </tr>\n    <tr>\n      <th>2</th>\n      <td>3</td>\n      <td>2021-01-08</td>\n    </tr>\n    <tr>\n      <th>3</th>\n      <td>4</td>\n      <td>2021-01-15</td>\n    </tr>\n  </tbody>\n</table>\n</div>"
     },
     "metadata": {},
     "execution_count": 20
    }
   ],
   "source": [
    "view_runners='''\n",
    "SELECT * FROM runners\n",
    "'''\n",
    "con.execute(view_runners).fetch_df()"
   ]
  },
  {
   "source": [
    "## Table 2: customer_orders\n",
    "Customer pizza orders are captured in the customer_orders table with 1 row for each individual pizza that is part of the order.\n",
    "\n",
    "The pizza_id relates to the type of pizza which was ordered whilst the exclusions are the ingredient_id values which should be removed from the pizza and the extras are the ingredient_id values which need to be added to the pizza.\n",
    "\n",
    "Note that customers can order multiple pizzas in a single order with varying exclusions and extras values even if the pizza is the same type!\n",
    "\n",
    "The exclusions and extras columns will need to be cleaned up before using them in your queries."
   ],
   "cell_type": "markdown",
   "metadata": {}
  },
  {
   "cell_type": "code",
   "execution_count": 21,
   "metadata": {},
   "outputs": [
    {
     "output_type": "execute_result",
     "data": {
      "text/plain": [
       "   Count\n",
       "0     14"
      ],
      "text/html": "<div>\n<style scoped>\n    .dataframe tbody tr th:only-of-type {\n        vertical-align: middle;\n    }\n\n    .dataframe tbody tr th {\n        vertical-align: top;\n    }\n\n    .dataframe thead th {\n        text-align: right;\n    }\n</style>\n<table border=\"1\" class=\"dataframe\">\n  <thead>\n    <tr style=\"text-align: right;\">\n      <th></th>\n      <th>Count</th>\n    </tr>\n  </thead>\n  <tbody>\n    <tr>\n      <th>0</th>\n      <td>14</td>\n    </tr>\n  </tbody>\n</table>\n</div>"
     },
     "metadata": {},
     "execution_count": 21
    }
   ],
   "source": [
    "customer_orders='''\n",
    "CREATE TABLE customer_orders (\n",
    "  \"order_id\" INTEGER,\n",
    "  \"customer_id\" INTEGER,\n",
    "  \"pizza_id\" INTEGER,\n",
    "  \"exclusions\" VARCHAR(4),\n",
    "  \"extras\" VARCHAR(4),\n",
    "  \"order_time\" TIMESTAMP\n",
    ");\n",
    "\n",
    "INSERT INTO customer_orders\n",
    "  (\"order_id\", \"customer_id\", \"pizza_id\", \"exclusions\", \"extras\", \"order_time\")\n",
    "VALUES\n",
    "  ('1', '101', '1', '', '', '2020-01-01 18:05:02'),\n",
    "  ('2', '101', '1', '', '', '2020-01-01 19:00:52'),\n",
    "  ('3', '102', '1', '', '', '2020-01-02 23:51:23'),\n",
    "  ('3', '102', '2', '', NULL, '2020-01-02 23:51:23'),\n",
    "  ('4', '103', '1', '4', '', '2020-01-04 13:23:46'),\n",
    "  ('4', '103', '1', '4', '', '2020-01-04 13:23:46'),\n",
    "  ('4', '103', '2', '4', '', '2020-01-04 13:23:46'),\n",
    "  ('5', '104', '1', 'null', '1', '2020-01-08 21:00:29'),\n",
    "  ('6', '101', '2', 'null', 'null', '2020-01-08 21:03:13'),\n",
    "  ('7', '105', '2', 'null', '1', '2020-01-08 21:20:29'),\n",
    "  ('8', '102', '1', 'null', 'null', '2020-01-09 23:54:33'),\n",
    "  ('9', '103', '1', '4', '1, 5', '2020-01-10 11:22:59'),\n",
    "  ('10', '104', '1', 'null', 'null', '2020-01-11 18:34:49'),\n",
    "  ('10', '104', '1', '2, 6', '1, 4', '2020-01-11 18:34:49');\n",
    "'''\n",
    "con.execute(customer_orders).fetch_df()"
   ]
  },
  {
   "cell_type": "code",
   "execution_count": 22,
   "metadata": {},
   "outputs": [
    {
     "output_type": "execute_result",
     "data": {
      "text/plain": [
       "    order_id  customer_id  pizza_id exclusions extras          order_time\n",
       "0          1          101         1                   2020-01-01 18:05:02\n",
       "1          2          101         1                   2020-01-01 19:00:52\n",
       "2          3          102         1                   2020-01-02 23:51:23\n",
       "3          3          102         2               NaN 2020-01-02 23:51:23\n",
       "4          4          103         1          4        2020-01-04 13:23:46\n",
       "5          4          103         1          4        2020-01-04 13:23:46\n",
       "6          4          103         2          4        2020-01-04 13:23:46\n",
       "7          5          104         1       null      1 2020-01-08 21:00:29\n",
       "8          6          101         2       null   null 2020-01-08 21:03:13\n",
       "9          7          105         2       null      1 2020-01-08 21:20:29\n",
       "10         8          102         1       null   null 2020-01-09 23:54:33\n",
       "11         9          103         1          4   1, 5 2020-01-10 11:22:59\n",
       "12        10          104         1       null   null 2020-01-11 18:34:49\n",
       "13        10          104         1       2, 6   1, 4 2020-01-11 18:34:49"
      ],
      "text/html": "<div>\n<style scoped>\n    .dataframe tbody tr th:only-of-type {\n        vertical-align: middle;\n    }\n\n    .dataframe tbody tr th {\n        vertical-align: top;\n    }\n\n    .dataframe thead th {\n        text-align: right;\n    }\n</style>\n<table border=\"1\" class=\"dataframe\">\n  <thead>\n    <tr style=\"text-align: right;\">\n      <th></th>\n      <th>order_id</th>\n      <th>customer_id</th>\n      <th>pizza_id</th>\n      <th>exclusions</th>\n      <th>extras</th>\n      <th>order_time</th>\n    </tr>\n  </thead>\n  <tbody>\n    <tr>\n      <th>0</th>\n      <td>1</td>\n      <td>101</td>\n      <td>1</td>\n      <td></td>\n      <td></td>\n      <td>2020-01-01 18:05:02</td>\n    </tr>\n    <tr>\n      <th>1</th>\n      <td>2</td>\n      <td>101</td>\n      <td>1</td>\n      <td></td>\n      <td></td>\n      <td>2020-01-01 19:00:52</td>\n    </tr>\n    <tr>\n      <th>2</th>\n      <td>3</td>\n      <td>102</td>\n      <td>1</td>\n      <td></td>\n      <td></td>\n      <td>2020-01-02 23:51:23</td>\n    </tr>\n    <tr>\n      <th>3</th>\n      <td>3</td>\n      <td>102</td>\n      <td>2</td>\n      <td></td>\n      <td>NaN</td>\n      <td>2020-01-02 23:51:23</td>\n    </tr>\n    <tr>\n      <th>4</th>\n      <td>4</td>\n      <td>103</td>\n      <td>1</td>\n      <td>4</td>\n      <td></td>\n      <td>2020-01-04 13:23:46</td>\n    </tr>\n    <tr>\n      <th>5</th>\n      <td>4</td>\n      <td>103</td>\n      <td>1</td>\n      <td>4</td>\n      <td></td>\n      <td>2020-01-04 13:23:46</td>\n    </tr>\n    <tr>\n      <th>6</th>\n      <td>4</td>\n      <td>103</td>\n      <td>2</td>\n      <td>4</td>\n      <td></td>\n      <td>2020-01-04 13:23:46</td>\n    </tr>\n    <tr>\n      <th>7</th>\n      <td>5</td>\n      <td>104</td>\n      <td>1</td>\n      <td>null</td>\n      <td>1</td>\n      <td>2020-01-08 21:00:29</td>\n    </tr>\n    <tr>\n      <th>8</th>\n      <td>6</td>\n      <td>101</td>\n      <td>2</td>\n      <td>null</td>\n      <td>null</td>\n      <td>2020-01-08 21:03:13</td>\n    </tr>\n    <tr>\n      <th>9</th>\n      <td>7</td>\n      <td>105</td>\n      <td>2</td>\n      <td>null</td>\n      <td>1</td>\n      <td>2020-01-08 21:20:29</td>\n    </tr>\n    <tr>\n      <th>10</th>\n      <td>8</td>\n      <td>102</td>\n      <td>1</td>\n      <td>null</td>\n      <td>null</td>\n      <td>2020-01-09 23:54:33</td>\n    </tr>\n    <tr>\n      <th>11</th>\n      <td>9</td>\n      <td>103</td>\n      <td>1</td>\n      <td>4</td>\n      <td>1, 5</td>\n      <td>2020-01-10 11:22:59</td>\n    </tr>\n    <tr>\n      <th>12</th>\n      <td>10</td>\n      <td>104</td>\n      <td>1</td>\n      <td>null</td>\n      <td>null</td>\n      <td>2020-01-11 18:34:49</td>\n    </tr>\n    <tr>\n      <th>13</th>\n      <td>10</td>\n      <td>104</td>\n      <td>1</td>\n      <td>2, 6</td>\n      <td>1, 4</td>\n      <td>2020-01-11 18:34:49</td>\n    </tr>\n  </tbody>\n</table>\n</div>"
     },
     "metadata": {},
     "execution_count": 22
    }
   ],
   "source": [
    "view_customer_orders='''\n",
    "SELECT * FROM customer_orders\n",
    "'''\n",
    "con.execute(view_customer_orders).fetch_df()"
   ]
  },
  {
   "source": [
    "## Table 3: runner_orders\n",
    "After each orders are received through the system - they are assigned to a runner - however not all orders are fully completed and can be cancelled by the restaurant or the customer.\n",
    "\n",
    "The pickup_time is the timestamp at which the runner arrives at the Pizza Runner headquarters to pick up the freshly cooked pizzas. The distance and duration fields are related to how far and long the runner had to travel to deliver the order to the respective customer.\n",
    "\n",
    "There are some known data issues with this table so be careful when using this in your queries - make sure to check the data types for each column in the schema SQL!"
   ],
   "cell_type": "markdown",
   "metadata": {}
  },
  {
   "cell_type": "code",
   "execution_count": 23,
   "metadata": {},
   "outputs": [
    {
     "output_type": "execute_result",
     "data": {
      "text/plain": [
       "   Count\n",
       "0     10"
      ],
      "text/html": "<div>\n<style scoped>\n    .dataframe tbody tr th:only-of-type {\n        vertical-align: middle;\n    }\n\n    .dataframe tbody tr th {\n        vertical-align: top;\n    }\n\n    .dataframe thead th {\n        text-align: right;\n    }\n</style>\n<table border=\"1\" class=\"dataframe\">\n  <thead>\n    <tr style=\"text-align: right;\">\n      <th></th>\n      <th>Count</th>\n    </tr>\n  </thead>\n  <tbody>\n    <tr>\n      <th>0</th>\n      <td>10</td>\n    </tr>\n  </tbody>\n</table>\n</div>"
     },
     "metadata": {},
     "execution_count": 23
    }
   ],
   "source": [
    "runner_orders='''\n",
    "CREATE TABLE runner_orders (\n",
    "  \"order_id\" INTEGER,\n",
    "  \"runner_id\" INTEGER,\n",
    "  \"pickup_time\" VARCHAR(19),\n",
    "  \"distance\" VARCHAR(7),\n",
    "  \"duration\" VARCHAR(10),\n",
    "  \"cancellation\" VARCHAR(23)\n",
    ");\n",
    "\n",
    "INSERT INTO runner_orders\n",
    "  (\"order_id\", \"runner_id\", \"pickup_time\", \"distance\", \"duration\", \"cancellation\")\n",
    "VALUES\n",
    "  ('1', '1', '2020-01-01 18:15:34', '20km', '32 minutes', ''),\n",
    "  ('2', '1', '2020-01-01 19:10:54', '20km', '27 minutes', ''),\n",
    "  ('3', '1', '2020-01-03 00:12:37', '13.4km', '20 mins', NULL),\n",
    "  ('4', '2', '2020-01-04 13:53:03', '23.4', '40', NULL),\n",
    "  ('5', '3', '2020-01-08 21:10:57', '10', '15', NULL),\n",
    "  ('6', '3', 'null', 'null', 'null', 'Restaurant Cancellation'),\n",
    "  ('7', '2', '2020-01-08 21:30:45', '25km', '25mins', 'null'),\n",
    "  ('8', '2', '2020-01-10 00:15:02', '23.4 km', '15 minute', 'null'),\n",
    "  ('9', '2', 'null', 'null', 'null', 'Customer Cancellation'),\n",
    "  ('10', '1', '2020-01-11 18:50:20', '10km', '10minutes', 'null');\n",
    "  '''\n",
    "con.execute(runner_orders).fetch_df()"
   ]
  },
  {
   "cell_type": "code",
   "execution_count": 24,
   "metadata": {},
   "outputs": [
    {
     "output_type": "execute_result",
     "data": {
      "text/plain": [
       "   order_id  runner_id          pickup_time distance    duration  \\\n",
       "0         1          1  2020-01-01 18:15:34     20km  32 minutes   \n",
       "1         2          1  2020-01-01 19:10:54     20km  27 minutes   \n",
       "2         3          1  2020-01-03 00:12:37   13.4km     20 mins   \n",
       "3         4          2  2020-01-04 13:53:03     23.4          40   \n",
       "4         5          3  2020-01-08 21:10:57       10          15   \n",
       "5         6          3                 null     null        null   \n",
       "6         7          2  2020-01-08 21:30:45     25km      25mins   \n",
       "7         8          2  2020-01-10 00:15:02  23.4 km   15 minute   \n",
       "8         9          2                 null     null        null   \n",
       "9        10          1  2020-01-11 18:50:20     10km   10minutes   \n",
       "\n",
       "              cancellation  \n",
       "0                           \n",
       "1                           \n",
       "2                      NaN  \n",
       "3                      NaN  \n",
       "4                      NaN  \n",
       "5  Restaurant Cancellation  \n",
       "6                     null  \n",
       "7                     null  \n",
       "8    Customer Cancellation  \n",
       "9                     null  "
      ],
      "text/html": "<div>\n<style scoped>\n    .dataframe tbody tr th:only-of-type {\n        vertical-align: middle;\n    }\n\n    .dataframe tbody tr th {\n        vertical-align: top;\n    }\n\n    .dataframe thead th {\n        text-align: right;\n    }\n</style>\n<table border=\"1\" class=\"dataframe\">\n  <thead>\n    <tr style=\"text-align: right;\">\n      <th></th>\n      <th>order_id</th>\n      <th>runner_id</th>\n      <th>pickup_time</th>\n      <th>distance</th>\n      <th>duration</th>\n      <th>cancellation</th>\n    </tr>\n  </thead>\n  <tbody>\n    <tr>\n      <th>0</th>\n      <td>1</td>\n      <td>1</td>\n      <td>2020-01-01 18:15:34</td>\n      <td>20km</td>\n      <td>32 minutes</td>\n      <td></td>\n    </tr>\n    <tr>\n      <th>1</th>\n      <td>2</td>\n      <td>1</td>\n      <td>2020-01-01 19:10:54</td>\n      <td>20km</td>\n      <td>27 minutes</td>\n      <td></td>\n    </tr>\n    <tr>\n      <th>2</th>\n      <td>3</td>\n      <td>1</td>\n      <td>2020-01-03 00:12:37</td>\n      <td>13.4km</td>\n      <td>20 mins</td>\n      <td>NaN</td>\n    </tr>\n    <tr>\n      <th>3</th>\n      <td>4</td>\n      <td>2</td>\n      <td>2020-01-04 13:53:03</td>\n      <td>23.4</td>\n      <td>40</td>\n      <td>NaN</td>\n    </tr>\n    <tr>\n      <th>4</th>\n      <td>5</td>\n      <td>3</td>\n      <td>2020-01-08 21:10:57</td>\n      <td>10</td>\n      <td>15</td>\n      <td>NaN</td>\n    </tr>\n    <tr>\n      <th>5</th>\n      <td>6</td>\n      <td>3</td>\n      <td>null</td>\n      <td>null</td>\n      <td>null</td>\n      <td>Restaurant Cancellation</td>\n    </tr>\n    <tr>\n      <th>6</th>\n      <td>7</td>\n      <td>2</td>\n      <td>2020-01-08 21:30:45</td>\n      <td>25km</td>\n      <td>25mins</td>\n      <td>null</td>\n    </tr>\n    <tr>\n      <th>7</th>\n      <td>8</td>\n      <td>2</td>\n      <td>2020-01-10 00:15:02</td>\n      <td>23.4 km</td>\n      <td>15 minute</td>\n      <td>null</td>\n    </tr>\n    <tr>\n      <th>8</th>\n      <td>9</td>\n      <td>2</td>\n      <td>null</td>\n      <td>null</td>\n      <td>null</td>\n      <td>Customer Cancellation</td>\n    </tr>\n    <tr>\n      <th>9</th>\n      <td>10</td>\n      <td>1</td>\n      <td>2020-01-11 18:50:20</td>\n      <td>10km</td>\n      <td>10minutes</td>\n      <td>null</td>\n    </tr>\n  </tbody>\n</table>\n</div>"
     },
     "metadata": {},
     "execution_count": 24
    }
   ],
   "source": [
    "view_runner_orders='''\n",
    "SELECT * FROM runner_orders\n",
    "'''\n",
    "con.execute(view_runner_orders).fetch_df()"
   ]
  },
  {
   "source": [
    "## Table 4: pizza_names\n",
    "At the moment - Pizza Runner only has 2 pizzas available the Meat Lovers or Vegetarian!"
   ],
   "cell_type": "markdown",
   "metadata": {}
  },
  {
   "cell_type": "code",
   "execution_count": 25,
   "metadata": {},
   "outputs": [
    {
     "output_type": "execute_result",
     "data": {
      "text/plain": [
       "   pizza_id  pizza_name\n",
       "0         1  Meatlovers\n",
       "1         2  Vegetarian"
      ],
      "text/html": "<div>\n<style scoped>\n    .dataframe tbody tr th:only-of-type {\n        vertical-align: middle;\n    }\n\n    .dataframe tbody tr th {\n        vertical-align: top;\n    }\n\n    .dataframe thead th {\n        text-align: right;\n    }\n</style>\n<table border=\"1\" class=\"dataframe\">\n  <thead>\n    <tr style=\"text-align: right;\">\n      <th></th>\n      <th>pizza_id</th>\n      <th>pizza_name</th>\n    </tr>\n  </thead>\n  <tbody>\n    <tr>\n      <th>0</th>\n      <td>1</td>\n      <td>Meatlovers</td>\n    </tr>\n    <tr>\n      <th>1</th>\n      <td>2</td>\n      <td>Vegetarian</td>\n    </tr>\n  </tbody>\n</table>\n</div>"
     },
     "metadata": {},
     "execution_count": 25
    }
   ],
   "source": [
    "pizza_names='''\n",
    "DROP TABLE IF EXISTS pizza_names;\n",
    "CREATE TABLE pizza_names (\n",
    "  \"pizza_id\" INTEGER,\n",
    "  \"pizza_name\" TEXT\n",
    ");\n",
    "INSERT INTO pizza_names\n",
    "  (\"pizza_id\", \"pizza_name\")\n",
    "VALUES\n",
    "  (1, 'Meatlovers'),\n",
    "  (2, 'Vegetarian');\n",
    "SELECT * FROM pizza_names\n",
    "'''\n",
    "con.execute(pizza_names).fetch_df()"
   ]
  },
  {
   "source": [
    "## Table 5: pizza_recipes\n",
    "Each pizza_id has a standard set of toppings which are used as part of the pizza recipe."
   ],
   "cell_type": "markdown",
   "metadata": {}
  },
  {
   "cell_type": "code",
   "execution_count": 26,
   "metadata": {},
   "outputs": [
    {
     "output_type": "execute_result",
     "data": {
      "text/plain": [
       "   pizza_id                 toppings\n",
       "0         1  1, 2, 3, 4, 5, 6, 8, 10\n",
       "1         2       4, 6, 7, 9, 11, 12"
      ],
      "text/html": "<div>\n<style scoped>\n    .dataframe tbody tr th:only-of-type {\n        vertical-align: middle;\n    }\n\n    .dataframe tbody tr th {\n        vertical-align: top;\n    }\n\n    .dataframe thead th {\n        text-align: right;\n    }\n</style>\n<table border=\"1\" class=\"dataframe\">\n  <thead>\n    <tr style=\"text-align: right;\">\n      <th></th>\n      <th>pizza_id</th>\n      <th>toppings</th>\n    </tr>\n  </thead>\n  <tbody>\n    <tr>\n      <th>0</th>\n      <td>1</td>\n      <td>1, 2, 3, 4, 5, 6, 8, 10</td>\n    </tr>\n    <tr>\n      <th>1</th>\n      <td>2</td>\n      <td>4, 6, 7, 9, 11, 12</td>\n    </tr>\n  </tbody>\n</table>\n</div>"
     },
     "metadata": {},
     "execution_count": 26
    }
   ],
   "source": [
    "pizza_recipes='''\n",
    "DROP TABLE IF EXISTS pizza_recipes;\n",
    "CREATE TABLE pizza_recipes (\n",
    "  \"pizza_id\" INTEGER,\n",
    "  \"toppings\" TEXT\n",
    ");\n",
    "INSERT INTO pizza_recipes\n",
    "  (\"pizza_id\", \"toppings\")\n",
    "VALUES\n",
    "  (1, '1, 2, 3, 4, 5, 6, 8, 10'),\n",
    "  (2, '4, 6, 7, 9, 11, 12');\n",
    "SELECT * FROM pizza_recipes\n",
    "'''\n",
    "con.execute(pizza_recipes).fetch_df()"
   ]
  },
  {
   "source": [
    "## Table 6: pizza_toppings\n",
    "This table contains all of the topping_name values with their corresponding topping_id value"
   ],
   "cell_type": "markdown",
   "metadata": {}
  },
  {
   "cell_type": "code",
   "execution_count": 27,
   "metadata": {},
   "outputs": [
    {
     "output_type": "execute_result",
     "data": {
      "text/plain": [
       "    topping_id  topping_name\n",
       "0            1         Bacon\n",
       "1            2     BBQ Sauce\n",
       "2            3          Beef\n",
       "3            4        Cheese\n",
       "4            5       Chicken\n",
       "5            6     Mushrooms\n",
       "6            7        Onions\n",
       "7            8     Pepperoni\n",
       "8            9       Peppers\n",
       "9           10        Salami\n",
       "10          11      Tomatoes\n",
       "11          12  Tomato Sauce"
      ],
      "text/html": "<div>\n<style scoped>\n    .dataframe tbody tr th:only-of-type {\n        vertical-align: middle;\n    }\n\n    .dataframe tbody tr th {\n        vertical-align: top;\n    }\n\n    .dataframe thead th {\n        text-align: right;\n    }\n</style>\n<table border=\"1\" class=\"dataframe\">\n  <thead>\n    <tr style=\"text-align: right;\">\n      <th></th>\n      <th>topping_id</th>\n      <th>topping_name</th>\n    </tr>\n  </thead>\n  <tbody>\n    <tr>\n      <th>0</th>\n      <td>1</td>\n      <td>Bacon</td>\n    </tr>\n    <tr>\n      <th>1</th>\n      <td>2</td>\n      <td>BBQ Sauce</td>\n    </tr>\n    <tr>\n      <th>2</th>\n      <td>3</td>\n      <td>Beef</td>\n    </tr>\n    <tr>\n      <th>3</th>\n      <td>4</td>\n      <td>Cheese</td>\n    </tr>\n    <tr>\n      <th>4</th>\n      <td>5</td>\n      <td>Chicken</td>\n    </tr>\n    <tr>\n      <th>5</th>\n      <td>6</td>\n      <td>Mushrooms</td>\n    </tr>\n    <tr>\n      <th>6</th>\n      <td>7</td>\n      <td>Onions</td>\n    </tr>\n    <tr>\n      <th>7</th>\n      <td>8</td>\n      <td>Pepperoni</td>\n    </tr>\n    <tr>\n      <th>8</th>\n      <td>9</td>\n      <td>Peppers</td>\n    </tr>\n    <tr>\n      <th>9</th>\n      <td>10</td>\n      <td>Salami</td>\n    </tr>\n    <tr>\n      <th>10</th>\n      <td>11</td>\n      <td>Tomatoes</td>\n    </tr>\n    <tr>\n      <th>11</th>\n      <td>12</td>\n      <td>Tomato Sauce</td>\n    </tr>\n  </tbody>\n</table>\n</div>"
     },
     "metadata": {},
     "execution_count": 27
    }
   ],
   "source": [
    "pizza_toppings='''\n",
    "DROP TABLE IF EXISTS pizza_toppings;\n",
    "CREATE TABLE pizza_toppings (\n",
    "  \"topping_id\" INTEGER,\n",
    "  \"topping_name\" TEXT\n",
    ");\n",
    "INSERT INTO pizza_toppings\n",
    "  (\"topping_id\", \"topping_name\")\n",
    "VALUES\n",
    "  (1, 'Bacon'),\n",
    "  (2, 'BBQ Sauce'),\n",
    "  (3, 'Beef'),\n",
    "  (4, 'Cheese'),\n",
    "  (5, 'Chicken'),\n",
    "  (6, 'Mushrooms'),\n",
    "  (7, 'Onions'),\n",
    "  (8, 'Pepperoni'),\n",
    "  (9, 'Peppers'),\n",
    "  (10, 'Salami'),\n",
    "  (11, 'Tomatoes'),\n",
    "  (12, 'Tomato Sauce');\n",
    "SELECT * FROM pizza_toppings\n",
    "'''\n",
    "con.execute(pizza_toppings).fetch_df()"
   ]
  },
  {
   "source": [
    "## Data Cleaning and Transformation\n",
    "----"
   ],
   "cell_type": "markdown",
   "metadata": {}
  },
  {
   "cell_type": "code",
   "execution_count": 48,
   "metadata": {},
   "outputs": [
    {
     "output_type": "execute_result",
     "data": {
      "text/plain": [
       "    order_id  customer_id  pizza_id exclusions extras          order_time\n",
       "0          1          101         1        NaN    NaN 2020-01-01 18:05:02\n",
       "1          2          101         1        NaN    NaN 2020-01-01 19:00:52\n",
       "2          3          102         1        NaN    NaN 2020-01-02 23:51:23\n",
       "3          3          102         2        NaN    NaN 2020-01-02 23:51:23\n",
       "4          4          103         1          4    NaN 2020-01-04 13:23:46\n",
       "5          4          103         1          4    NaN 2020-01-04 13:23:46\n",
       "6          4          103         2          4    NaN 2020-01-04 13:23:46\n",
       "7          5          104         1        NaN      1 2020-01-08 21:00:29\n",
       "8          6          101         2        NaN    NaN 2020-01-08 21:03:13\n",
       "9          7          105         2        NaN      1 2020-01-08 21:20:29\n",
       "10         8          102         1        NaN    NaN 2020-01-09 23:54:33\n",
       "11         9          103         1          4   1, 5 2020-01-10 11:22:59\n",
       "12        10          104         1        NaN    NaN 2020-01-11 18:34:49\n",
       "13        10          104         1       2, 6   1, 4 2020-01-11 18:34:49"
      ],
      "text/html": "<div>\n<style scoped>\n    .dataframe tbody tr th:only-of-type {\n        vertical-align: middle;\n    }\n\n    .dataframe tbody tr th {\n        vertical-align: top;\n    }\n\n    .dataframe thead th {\n        text-align: right;\n    }\n</style>\n<table border=\"1\" class=\"dataframe\">\n  <thead>\n    <tr style=\"text-align: right;\">\n      <th></th>\n      <th>order_id</th>\n      <th>customer_id</th>\n      <th>pizza_id</th>\n      <th>exclusions</th>\n      <th>extras</th>\n      <th>order_time</th>\n    </tr>\n  </thead>\n  <tbody>\n    <tr>\n      <th>0</th>\n      <td>1</td>\n      <td>101</td>\n      <td>1</td>\n      <td>NaN</td>\n      <td>NaN</td>\n      <td>2020-01-01 18:05:02</td>\n    </tr>\n    <tr>\n      <th>1</th>\n      <td>2</td>\n      <td>101</td>\n      <td>1</td>\n      <td>NaN</td>\n      <td>NaN</td>\n      <td>2020-01-01 19:00:52</td>\n    </tr>\n    <tr>\n      <th>2</th>\n      <td>3</td>\n      <td>102</td>\n      <td>1</td>\n      <td>NaN</td>\n      <td>NaN</td>\n      <td>2020-01-02 23:51:23</td>\n    </tr>\n    <tr>\n      <th>3</th>\n      <td>3</td>\n      <td>102</td>\n      <td>2</td>\n      <td>NaN</td>\n      <td>NaN</td>\n      <td>2020-01-02 23:51:23</td>\n    </tr>\n    <tr>\n      <th>4</th>\n      <td>4</td>\n      <td>103</td>\n      <td>1</td>\n      <td>4</td>\n      <td>NaN</td>\n      <td>2020-01-04 13:23:46</td>\n    </tr>\n    <tr>\n      <th>5</th>\n      <td>4</td>\n      <td>103</td>\n      <td>1</td>\n      <td>4</td>\n      <td>NaN</td>\n      <td>2020-01-04 13:23:46</td>\n    </tr>\n    <tr>\n      <th>6</th>\n      <td>4</td>\n      <td>103</td>\n      <td>2</td>\n      <td>4</td>\n      <td>NaN</td>\n      <td>2020-01-04 13:23:46</td>\n    </tr>\n    <tr>\n      <th>7</th>\n      <td>5</td>\n      <td>104</td>\n      <td>1</td>\n      <td>NaN</td>\n      <td>1</td>\n      <td>2020-01-08 21:00:29</td>\n    </tr>\n    <tr>\n      <th>8</th>\n      <td>6</td>\n      <td>101</td>\n      <td>2</td>\n      <td>NaN</td>\n      <td>NaN</td>\n      <td>2020-01-08 21:03:13</td>\n    </tr>\n    <tr>\n      <th>9</th>\n      <td>7</td>\n      <td>105</td>\n      <td>2</td>\n      <td>NaN</td>\n      <td>1</td>\n      <td>2020-01-08 21:20:29</td>\n    </tr>\n    <tr>\n      <th>10</th>\n      <td>8</td>\n      <td>102</td>\n      <td>1</td>\n      <td>NaN</td>\n      <td>NaN</td>\n      <td>2020-01-09 23:54:33</td>\n    </tr>\n    <tr>\n      <th>11</th>\n      <td>9</td>\n      <td>103</td>\n      <td>1</td>\n      <td>4</td>\n      <td>1, 5</td>\n      <td>2020-01-10 11:22:59</td>\n    </tr>\n    <tr>\n      <th>12</th>\n      <td>10</td>\n      <td>104</td>\n      <td>1</td>\n      <td>NaN</td>\n      <td>NaN</td>\n      <td>2020-01-11 18:34:49</td>\n    </tr>\n    <tr>\n      <th>13</th>\n      <td>10</td>\n      <td>104</td>\n      <td>1</td>\n      <td>2, 6</td>\n      <td>1, 4</td>\n      <td>2020-01-11 18:34:49</td>\n    </tr>\n  </tbody>\n</table>\n</div>"
     },
     "metadata": {},
     "execution_count": 48
    }
   ],
   "source": [
    "temp_customer_orders='''\n",
    "DROP TABLE IF EXISTS customer_orders_temp;\n",
    "CREATE TEMP TABLE customer_orders_temp AS\n",
    "SELECT \n",
    "  order_id, \n",
    "  customer_id, \n",
    "  pizza_id, \n",
    "  CASE\n",
    "\t  WHEN exclusions LIKE 'null' OR exclusions = '' THEN null\n",
    "\t  ELSE exclusions\n",
    "\t  END AS exclusions,\n",
    "  CASE\n",
    "\t  WHEN extras LIKE 'null' OR extras = '' THEN null\n",
    "\t  ELSE extras\n",
    "\t  END AS extras,\n",
    "\torder_time\n",
    "FROM customer_orders;\n",
    "SELECT * FROM customer_orders_temp\n",
    "'''\n",
    "con.execute(temp_customer_orders).fetch_df()"
   ]
  },
  {
   "cell_type": "code",
   "execution_count": 50,
   "metadata": {},
   "outputs": [
    {
     "output_type": "execute_result",
     "data": {
      "text/plain": [
       "   order_id  runner_id         pickup_time  distance  duration  \\\n",
       "0         1          1 2020-01-01 18:15:34      20.0      32.0   \n",
       "1         2          1 2020-01-01 19:10:54      20.0      27.0   \n",
       "2         3          1 2020-01-03 00:12:37      13.4      20.0   \n",
       "3         4          2 2020-01-04 13:53:03      23.4      40.0   \n",
       "4         5          3 2020-01-08 21:10:57      10.0      15.0   \n",
       "5         6          3                 NaT       NaN       NaN   \n",
       "6         7          2 2020-01-08 21:30:45      25.0      25.0   \n",
       "7         8          2 2020-01-10 00:15:02      23.4      15.0   \n",
       "8         9          2                 NaT       NaN       NaN   \n",
       "9        10          1 2020-01-11 18:50:20      10.0      10.0   \n",
       "\n",
       "              cancellation  \n",
       "0                      NaN  \n",
       "1                      NaN  \n",
       "2                      NaN  \n",
       "3                      NaN  \n",
       "4                      NaN  \n",
       "5  Restaurant Cancellation  \n",
       "6                      NaN  \n",
       "7                      NaN  \n",
       "8    Customer Cancellation  \n",
       "9                      NaN  "
      ],
      "text/html": "<div>\n<style scoped>\n    .dataframe tbody tr th:only-of-type {\n        vertical-align: middle;\n    }\n\n    .dataframe tbody tr th {\n        vertical-align: top;\n    }\n\n    .dataframe thead th {\n        text-align: right;\n    }\n</style>\n<table border=\"1\" class=\"dataframe\">\n  <thead>\n    <tr style=\"text-align: right;\">\n      <th></th>\n      <th>order_id</th>\n      <th>runner_id</th>\n      <th>pickup_time</th>\n      <th>distance</th>\n      <th>duration</th>\n      <th>cancellation</th>\n    </tr>\n  </thead>\n  <tbody>\n    <tr>\n      <th>0</th>\n      <td>1</td>\n      <td>1</td>\n      <td>2020-01-01 18:15:34</td>\n      <td>20.0</td>\n      <td>32.0</td>\n      <td>NaN</td>\n    </tr>\n    <tr>\n      <th>1</th>\n      <td>2</td>\n      <td>1</td>\n      <td>2020-01-01 19:10:54</td>\n      <td>20.0</td>\n      <td>27.0</td>\n      <td>NaN</td>\n    </tr>\n    <tr>\n      <th>2</th>\n      <td>3</td>\n      <td>1</td>\n      <td>2020-01-03 00:12:37</td>\n      <td>13.4</td>\n      <td>20.0</td>\n      <td>NaN</td>\n    </tr>\n    <tr>\n      <th>3</th>\n      <td>4</td>\n      <td>2</td>\n      <td>2020-01-04 13:53:03</td>\n      <td>23.4</td>\n      <td>40.0</td>\n      <td>NaN</td>\n    </tr>\n    <tr>\n      <th>4</th>\n      <td>5</td>\n      <td>3</td>\n      <td>2020-01-08 21:10:57</td>\n      <td>10.0</td>\n      <td>15.0</td>\n      <td>NaN</td>\n    </tr>\n    <tr>\n      <th>5</th>\n      <td>6</td>\n      <td>3</td>\n      <td>NaT</td>\n      <td>NaN</td>\n      <td>NaN</td>\n      <td>Restaurant Cancellation</td>\n    </tr>\n    <tr>\n      <th>6</th>\n      <td>7</td>\n      <td>2</td>\n      <td>2020-01-08 21:30:45</td>\n      <td>25.0</td>\n      <td>25.0</td>\n      <td>NaN</td>\n    </tr>\n    <tr>\n      <th>7</th>\n      <td>8</td>\n      <td>2</td>\n      <td>2020-01-10 00:15:02</td>\n      <td>23.4</td>\n      <td>15.0</td>\n      <td>NaN</td>\n    </tr>\n    <tr>\n      <th>8</th>\n      <td>9</td>\n      <td>2</td>\n      <td>NaT</td>\n      <td>NaN</td>\n      <td>NaN</td>\n      <td>Customer Cancellation</td>\n    </tr>\n    <tr>\n      <th>9</th>\n      <td>10</td>\n      <td>1</td>\n      <td>2020-01-11 18:50:20</td>\n      <td>10.0</td>\n      <td>10.0</td>\n      <td>NaN</td>\n    </tr>\n  </tbody>\n</table>\n</div>"
     },
     "metadata": {},
     "execution_count": 50
    }
   ],
   "source": [
    "runner_orders_temp='''\n",
    "DROP TABLE IF EXISTS runner_orders_temp;\n",
    "CREATE TEMP TABLE runner_orders_temp AS (\n",
    "  SELECT order_id, runner_id,\n",
    "        CASE WHEN pickup_time = 'null' THEN null ELSE pickup_time END :: timestamp AS pickup_time,\n",
    "--use NULLIF to handle blank string '' turns NULL if two expressions are equal, otherwise it returns the first expression.--\n",
    "        NULLIF(REGEXP_REPLACE(distance, '[^0-9.]', '', 'g'), '') :: numeric AS distance,\n",
    "        NULLIF(REGEXP_REPLACE(duration, '[^0-9.]', '', 'g'), '') :: numeric AS duration,\n",
    "        CASE WHEN cancellation IN ('null', 'NaN', '') THEN null ELSE cancellation END AS cancellation\n",
    "  FROM runner_orders\n",
    ");\n",
    "SELECT * FROM runner_orders_temp;\n",
    "'''\n",
    "con.execute(runner_orders_temp).fetch_df()"
   ]
  },
  {
   "source": [
    "## Case Study Questions\n",
    "---"
   ],
   "cell_type": "markdown",
   "metadata": {}
  },
  {
   "source": [
    "### Pizza Metrics\n",
    "\n",
    "1. How many pizzas were ordered?"
   ],
   "cell_type": "markdown",
   "metadata": {}
  },
  {
   "cell_type": "code",
   "execution_count": 53,
   "metadata": {},
   "outputs": [
    {
     "output_type": "execute_result",
     "data": {
      "text/plain": [
       "   pizza_order_count\n",
       "0                 14"
      ],
      "text/html": "<div>\n<style scoped>\n    .dataframe tbody tr th:only-of-type {\n        vertical-align: middle;\n    }\n\n    .dataframe tbody tr th {\n        vertical-align: top;\n    }\n\n    .dataframe thead th {\n        text-align: right;\n    }\n</style>\n<table border=\"1\" class=\"dataframe\">\n  <thead>\n    <tr style=\"text-align: right;\">\n      <th></th>\n      <th>pizza_order_count</th>\n    </tr>\n  </thead>\n  <tbody>\n    <tr>\n      <th>0</th>\n      <td>14</td>\n    </tr>\n  </tbody>\n</table>\n</div>"
     },
     "metadata": {},
     "execution_count": 53
    }
   ],
   "source": [
    "partA_1='''\n",
    "SELECT COUNT(*) AS pizza_order_count\n",
    "FROM customer_orders_temp;\n",
    "'''\n",
    "con.execute(partA_1).fetch_df()"
   ]
  },
  {
   "source": [
    "2. How many unique customer orders were made?"
   ],
   "cell_type": "markdown",
   "metadata": {}
  },
  {
   "cell_type": "code",
   "execution_count": 54,
   "metadata": {},
   "outputs": [
    {
     "output_type": "execute_result",
     "data": {
      "text/plain": [
       "   unique_customer_orders\n",
       "0                       5"
      ],
      "text/html": "<div>\n<style scoped>\n    .dataframe tbody tr th:only-of-type {\n        vertical-align: middle;\n    }\n\n    .dataframe tbody tr th {\n        vertical-align: top;\n    }\n\n    .dataframe thead th {\n        text-align: right;\n    }\n</style>\n<table border=\"1\" class=\"dataframe\">\n  <thead>\n    <tr style=\"text-align: right;\">\n      <th></th>\n      <th>unique_customer_orders</th>\n    </tr>\n  </thead>\n  <tbody>\n    <tr>\n      <th>0</th>\n      <td>5</td>\n    </tr>\n  </tbody>\n</table>\n</div>"
     },
     "metadata": {},
     "execution_count": 54
    }
   ],
   "source": [
    "partA_2='''\n",
    "SELECT COUNT(DISTINCT(customer_id)) AS unique_customer_orders\n",
    "FROM customer_orders_temp\n",
    "'''\n",
    "con.execute(partA_2).fetch_df()"
   ]
  },
  {
   "source": [
    "3. How many successful orders were delivered by each runner?"
   ],
   "cell_type": "markdown",
   "metadata": {}
  },
  {
   "cell_type": "code",
   "execution_count": 66,
   "metadata": {},
   "outputs": [
    {
     "output_type": "execute_result",
     "data": {
      "text/plain": [
       "   runner_id  order_count\n",
       "0          1            4\n",
       "1          2            3\n",
       "2          3            1"
      ],
      "text/html": "<div>\n<style scoped>\n    .dataframe tbody tr th:only-of-type {\n        vertical-align: middle;\n    }\n\n    .dataframe tbody tr th {\n        vertical-align: top;\n    }\n\n    .dataframe thead th {\n        text-align: right;\n    }\n</style>\n<table border=\"1\" class=\"dataframe\">\n  <thead>\n    <tr style=\"text-align: right;\">\n      <th></th>\n      <th>runner_id</th>\n      <th>order_count</th>\n    </tr>\n  </thead>\n  <tbody>\n    <tr>\n      <th>0</th>\n      <td>1</td>\n      <td>4</td>\n    </tr>\n    <tr>\n      <th>1</th>\n      <td>2</td>\n      <td>3</td>\n    </tr>\n    <tr>\n      <th>2</th>\n      <td>3</td>\n      <td>1</td>\n    </tr>\n  </tbody>\n</table>\n</div>"
     },
     "metadata": {},
     "execution_count": 66
    }
   ],
   "source": [
    "partA_3='''\n",
    "SELECT runner_id, COUNT(order_id) AS order_count\n",
    "FROM runner_orders_temp \n",
    "WHERE cancellation IS NULL\n",
    "GROUP BY runner_id\n",
    "'''\n",
    "con.execute(partA_3).fetch_df()"
   ]
  },
  {
   "source": [
    "4. How many of each type of pizza was delivered?"
   ],
   "cell_type": "markdown",
   "metadata": {}
  },
  {
   "cell_type": "code",
   "execution_count": 70,
   "metadata": {},
   "outputs": [
    {
     "output_type": "execute_result",
     "data": {
      "text/plain": [
       "   pizza_name  pizza_count\n",
       "0  Meatlovers            9\n",
       "1  Vegetarian            3"
      ],
      "text/html": "<div>\n<style scoped>\n    .dataframe tbody tr th:only-of-type {\n        vertical-align: middle;\n    }\n\n    .dataframe tbody tr th {\n        vertical-align: top;\n    }\n\n    .dataframe thead th {\n        text-align: right;\n    }\n</style>\n<table border=\"1\" class=\"dataframe\">\n  <thead>\n    <tr style=\"text-align: right;\">\n      <th></th>\n      <th>pizza_name</th>\n      <th>pizza_count</th>\n    </tr>\n  </thead>\n  <tbody>\n    <tr>\n      <th>0</th>\n      <td>Meatlovers</td>\n      <td>9</td>\n    </tr>\n    <tr>\n      <th>1</th>\n      <td>Vegetarian</td>\n      <td>3</td>\n    </tr>\n  </tbody>\n</table>\n</div>"
     },
     "metadata": {},
     "execution_count": 70
    }
   ],
   "source": [
    "partA_4='''\n",
    "SELECT p.pizza_name, COUNT(c.pizza_id) AS pizza_count\n",
    "FROM customer_orders_temp c\n",
    "JOIN runner_orders_temp r\n",
    "ON c.order_id=r.order_id\n",
    "JOIN pizza_names AS p\n",
    "ON c.pizza_id = p.pizza_id\n",
    "WHERE cancellation IS NULL\n",
    "GROUP BY p.pizza_name\n",
    "'''\n",
    "con.execute(partA_4).fetch_df()"
   ]
  },
  {
   "source": [
    "5. How many Vegetarian and Meatlovers were ordered by each customer?"
   ],
   "cell_type": "markdown",
   "metadata": {}
  },
  {
   "cell_type": "code",
   "execution_count": 77,
   "metadata": {},
   "outputs": [
    {
     "output_type": "execute_result",
     "data": {
      "text/plain": [
       "   customer_id  pizza_name  order_count\n",
       "0          101  Meatlovers            2\n",
       "1          102  Meatlovers            2\n",
       "2          102  Vegetarian            1\n",
       "3          103  Meatlovers            3\n",
       "4          103  Vegetarian            1\n",
       "5          104  Meatlovers            3\n",
       "6          101  Vegetarian            1\n",
       "7          105  Vegetarian            1"
      ],
      "text/html": "<div>\n<style scoped>\n    .dataframe tbody tr th:only-of-type {\n        vertical-align: middle;\n    }\n\n    .dataframe tbody tr th {\n        vertical-align: top;\n    }\n\n    .dataframe thead th {\n        text-align: right;\n    }\n</style>\n<table border=\"1\" class=\"dataframe\">\n  <thead>\n    <tr style=\"text-align: right;\">\n      <th></th>\n      <th>customer_id</th>\n      <th>pizza_name</th>\n      <th>order_count</th>\n    </tr>\n  </thead>\n  <tbody>\n    <tr>\n      <th>0</th>\n      <td>101</td>\n      <td>Meatlovers</td>\n      <td>2</td>\n    </tr>\n    <tr>\n      <th>1</th>\n      <td>102</td>\n      <td>Meatlovers</td>\n      <td>2</td>\n    </tr>\n    <tr>\n      <th>2</th>\n      <td>102</td>\n      <td>Vegetarian</td>\n      <td>1</td>\n    </tr>\n    <tr>\n      <th>3</th>\n      <td>103</td>\n      <td>Meatlovers</td>\n      <td>3</td>\n    </tr>\n    <tr>\n      <th>4</th>\n      <td>103</td>\n      <td>Vegetarian</td>\n      <td>1</td>\n    </tr>\n    <tr>\n      <th>5</th>\n      <td>104</td>\n      <td>Meatlovers</td>\n      <td>3</td>\n    </tr>\n    <tr>\n      <th>6</th>\n      <td>101</td>\n      <td>Vegetarian</td>\n      <td>1</td>\n    </tr>\n    <tr>\n      <th>7</th>\n      <td>105</td>\n      <td>Vegetarian</td>\n      <td>1</td>\n    </tr>\n  </tbody>\n</table>\n</div>"
     },
     "metadata": {},
     "execution_count": 77
    }
   ],
   "source": [
    "partA_5='''\n",
    "SELECT c.customer_id, p.pizza_name, COUNT(c.order_id):: INT AS order_count\n",
    "FROM customer_orders_temp c\n",
    "JOIN pizza_names AS p\n",
    "ON c.pizza_id = p.pizza_id\n",
    "GROUP BY c.customer_id, p.pizza_name\n",
    "'''\n",
    "con.execute(partA_5).fetch_df()"
   ]
  },
  {
   "cell_type": "code",
   "execution_count": 81,
   "metadata": {},
   "outputs": [
    {
     "output_type": "execute_result",
     "data": {
      "text/plain": [
       "   customer_id  meat_lovers  vegetarian\n",
       "0          101            2           1\n",
       "1          102            2           1\n",
       "2          103            3           1\n",
       "3          104            3           0\n",
       "4          105            0           1"
      ],
      "text/html": "<div>\n<style scoped>\n    .dataframe tbody tr th:only-of-type {\n        vertical-align: middle;\n    }\n\n    .dataframe tbody tr th {\n        vertical-align: top;\n    }\n\n    .dataframe thead th {\n        text-align: right;\n    }\n</style>\n<table border=\"1\" class=\"dataframe\">\n  <thead>\n    <tr style=\"text-align: right;\">\n      <th></th>\n      <th>customer_id</th>\n      <th>meat_lovers</th>\n      <th>vegetarian</th>\n    </tr>\n  </thead>\n  <tbody>\n    <tr>\n      <th>0</th>\n      <td>101</td>\n      <td>2</td>\n      <td>1</td>\n    </tr>\n    <tr>\n      <th>1</th>\n      <td>102</td>\n      <td>2</td>\n      <td>1</td>\n    </tr>\n    <tr>\n      <th>2</th>\n      <td>103</td>\n      <td>3</td>\n      <td>1</td>\n    </tr>\n    <tr>\n      <th>3</th>\n      <td>104</td>\n      <td>3</td>\n      <td>0</td>\n    </tr>\n    <tr>\n      <th>4</th>\n      <td>105</td>\n      <td>0</td>\n      <td>1</td>\n    </tr>\n  </tbody>\n</table>\n</div>"
     },
     "metadata": {},
     "execution_count": 81
    }
   ],
   "source": [
    "partA_5='''\n",
    "SELECT customer_id,\n",
    "    SUM(CASE WHEN pizza_id = 1 THEN 1 ELSE 0 END):: INT AS meat_lovers,\n",
    "    SUM(CASE WHEN pizza_id = 2 THEN 1 ELSE 0 END):: INT AS vegetarian\n",
    "FROM customer_orders_temp\n",
    "GROUP BY customer_id;\n",
    "'''\n",
    "con.execute(partA_5).fetch_df()"
   ]
  },
  {
   "source": [
    "6. What was the maximum number of pizzas delivered in a single order?"
   ],
   "cell_type": "markdown",
   "metadata": {}
  },
  {
   "cell_type": "code",
   "execution_count": 102,
   "metadata": {},
   "outputs": [
    {
     "output_type": "execute_result",
     "data": {
      "text/plain": [
       "   order_id  pizza_count\n",
       "0         4            3"
      ],
      "text/html": "<div>\n<style scoped>\n    .dataframe tbody tr th:only-of-type {\n        vertical-align: middle;\n    }\n\n    .dataframe tbody tr th {\n        vertical-align: top;\n    }\n\n    .dataframe thead th {\n        text-align: right;\n    }\n</style>\n<table border=\"1\" class=\"dataframe\">\n  <thead>\n    <tr style=\"text-align: right;\">\n      <th></th>\n      <th>order_id</th>\n      <th>pizza_count</th>\n    </tr>\n  </thead>\n  <tbody>\n    <tr>\n      <th>0</th>\n      <td>4</td>\n      <td>3</td>\n    </tr>\n  </tbody>\n</table>\n</div>"
     },
     "metadata": {},
     "execution_count": 102
    }
   ],
   "source": [
    "partA_6='''\n",
    "SELECT c.order_id, COUNT(c.pizza_id) AS pizza_count \n",
    "FROM customer_orders_temp c\n",
    "JOIN runner_orders_temp r\n",
    "ON c.order_id=r.order_id\n",
    "WHERE r.cancellation IS NULL\n",
    "GROUP BY c.order_id\n",
    "ORDER BY pizza_count DESC\n",
    "LIMIT 1\n",
    "'''\n",
    "con.execute(partA_6).fetch_df()"
   ]
  },
  {
   "source": [
    "7. For each customer, how many delivered pizzas had at least 1 change and how many had no changes?"
   ],
   "cell_type": "markdown",
   "metadata": {}
  },
  {
   "cell_type": "code",
   "execution_count": 104,
   "metadata": {},
   "outputs": [
    {
     "output_type": "execute_result",
     "data": {
      "text/plain": [
       "   customer_id  at_least_1_change  no_change\n",
       "0          101                  0          2\n",
       "1          102                  0          3\n",
       "2          103                  3          0\n",
       "3          104                  2          1\n",
       "4          105                  1          0"
      ],
      "text/html": "<div>\n<style scoped>\n    .dataframe tbody tr th:only-of-type {\n        vertical-align: middle;\n    }\n\n    .dataframe tbody tr th {\n        vertical-align: top;\n    }\n\n    .dataframe thead th {\n        text-align: right;\n    }\n</style>\n<table border=\"1\" class=\"dataframe\">\n  <thead>\n    <tr style=\"text-align: right;\">\n      <th></th>\n      <th>customer_id</th>\n      <th>at_least_1_change</th>\n      <th>no_change</th>\n    </tr>\n  </thead>\n  <tbody>\n    <tr>\n      <th>0</th>\n      <td>101</td>\n      <td>0</td>\n      <td>2</td>\n    </tr>\n    <tr>\n      <th>1</th>\n      <td>102</td>\n      <td>0</td>\n      <td>3</td>\n    </tr>\n    <tr>\n      <th>2</th>\n      <td>103</td>\n      <td>3</td>\n      <td>0</td>\n    </tr>\n    <tr>\n      <th>3</th>\n      <td>104</td>\n      <td>2</td>\n      <td>1</td>\n    </tr>\n    <tr>\n      <th>4</th>\n      <td>105</td>\n      <td>1</td>\n      <td>0</td>\n    </tr>\n  </tbody>\n</table>\n</div>"
     },
     "metadata": {},
     "execution_count": 104
    }
   ],
   "source": [
    "partA_7='''\n",
    "SELECT \n",
    "  c.customer_id,\n",
    "  SUM(\n",
    "    CASE WHEN c.exclusions IS NOT NULL OR c.extras IS NOT NULL THEN 1\n",
    "    ELSE 0\n",
    "    END):: INT AS at_least_1_change,\n",
    "  SUM(\n",
    "    CASE WHEN c.exclusions IS NULL AND c.extras IS NULL THEN 1 \n",
    "    ELSE 0\n",
    "    END):: INT AS no_change\n",
    "FROM customer_orders_temp c\n",
    "JOIN runner_orders_temp r\n",
    "ON c.order_id=r.order_id\n",
    "WHERE r.cancellation IS NULL\n",
    "GROUP BY c.customer_id\n",
    "ORDER BY c.customer_id;\n",
    "'''\n",
    "con.execute(partA_7).fetch_df()"
   ]
  },
  {
   "source": [
    "8. How many pizzas were delivered that had both exclusions and extras?"
   ],
   "cell_type": "markdown",
   "metadata": {}
  },
  {
   "cell_type": "code",
   "execution_count": 105,
   "metadata": {},
   "outputs": [
    {
     "output_type": "execute_result",
     "data": {
      "text/plain": [
       "   pizza_count\n",
       "0            1"
      ],
      "text/html": "<div>\n<style scoped>\n    .dataframe tbody tr th:only-of-type {\n        vertical-align: middle;\n    }\n\n    .dataframe tbody tr th {\n        vertical-align: top;\n    }\n\n    .dataframe thead th {\n        text-align: right;\n    }\n</style>\n<table border=\"1\" class=\"dataframe\">\n  <thead>\n    <tr style=\"text-align: right;\">\n      <th></th>\n      <th>pizza_count</th>\n    </tr>\n  </thead>\n  <tbody>\n    <tr>\n      <th>0</th>\n      <td>1</td>\n    </tr>\n  </tbody>\n</table>\n</div>"
     },
     "metadata": {},
     "execution_count": 105
    }
   ],
   "source": [
    "partA_8='''\n",
    "SELECT COUNT(c.order_id) AS pizza_count\n",
    "FROM customer_orders_temp c\n",
    "JOIN runner_orders_temp r\n",
    "ON c.order_id=r.order_id\n",
    "WHERE (c.exclusions IS NOT NULL AND c.extras IS NOT NULL) AND r.cancellation IS NULL\n",
    "'''\n",
    "con.execute(partA_8).fetch_df()"
   ]
  },
  {
   "source": [
    "9. What was the total volume of pizzas ordered for each hour of the day?"
   ],
   "cell_type": "markdown",
   "metadata": {}
  },
  {
   "cell_type": "code",
   "execution_count": 125,
   "metadata": {},
   "outputs": [
    {
     "output_type": "execute_result",
     "data": {
      "text/plain": [
       "   hour_order_time  pizza_count\n",
       "0               11            1\n",
       "1               13            3\n",
       "2               18            3\n",
       "3               19            1\n",
       "4               21            3\n",
       "5               23            3"
      ],
      "text/html": "<div>\n<style scoped>\n    .dataframe tbody tr th:only-of-type {\n        vertical-align: middle;\n    }\n\n    .dataframe tbody tr th {\n        vertical-align: top;\n    }\n\n    .dataframe thead th {\n        text-align: right;\n    }\n</style>\n<table border=\"1\" class=\"dataframe\">\n  <thead>\n    <tr style=\"text-align: right;\">\n      <th></th>\n      <th>hour_order_time</th>\n      <th>pizza_count</th>\n    </tr>\n  </thead>\n  <tbody>\n    <tr>\n      <th>0</th>\n      <td>11</td>\n      <td>1</td>\n    </tr>\n    <tr>\n      <th>1</th>\n      <td>13</td>\n      <td>3</td>\n    </tr>\n    <tr>\n      <th>2</th>\n      <td>18</td>\n      <td>3</td>\n    </tr>\n    <tr>\n      <th>3</th>\n      <td>19</td>\n      <td>1</td>\n    </tr>\n    <tr>\n      <th>4</th>\n      <td>21</td>\n      <td>3</td>\n    </tr>\n    <tr>\n      <th>5</th>\n      <td>23</td>\n      <td>3</td>\n    </tr>\n  </tbody>\n</table>\n</div>"
     },
     "metadata": {},
     "execution_count": 125
    }
   ],
   "source": [
    "partA_9='''\n",
    "SELECT HOUR(order_time)AS hour_order_time, COUNT(order_id) AS pizza_count\n",
    "FROM customer_orders_temp\n",
    "GROUP BY HOUR(order_time)\n",
    "'''\n",
    "con.execute(partA_9).fetch_df()"
   ]
  },
  {
   "source": [
    "10. What was the volume of orders for each day of the week?"
   ],
   "cell_type": "markdown",
   "metadata": {}
  },
  {
   "cell_type": "code",
   "execution_count": 129,
   "metadata": {},
   "outputs": [
    {
     "output_type": "execute_result",
     "data": {
      "text/plain": [
       "  date_order_time  pizza_count\n",
       "0       Wednesday            5\n",
       "1        Thursday            3\n",
       "2        Saturday            5\n",
       "3          Friday            1"
      ],
      "text/html": "<div>\n<style scoped>\n    .dataframe tbody tr th:only-of-type {\n        vertical-align: middle;\n    }\n\n    .dataframe tbody tr th {\n        vertical-align: top;\n    }\n\n    .dataframe thead th {\n        text-align: right;\n    }\n</style>\n<table border=\"1\" class=\"dataframe\">\n  <thead>\n    <tr style=\"text-align: right;\">\n      <th></th>\n      <th>date_order_time</th>\n      <th>pizza_count</th>\n    </tr>\n  </thead>\n  <tbody>\n    <tr>\n      <th>0</th>\n      <td>Wednesday</td>\n      <td>5</td>\n    </tr>\n    <tr>\n      <th>1</th>\n      <td>Thursday</td>\n      <td>3</td>\n    </tr>\n    <tr>\n      <th>2</th>\n      <td>Saturday</td>\n      <td>5</td>\n    </tr>\n    <tr>\n      <th>3</th>\n      <td>Friday</td>\n      <td>1</td>\n    </tr>\n  </tbody>\n</table>\n</div>"
     },
     "metadata": {},
     "execution_count": 129
    }
   ],
   "source": [
    "partA_10='''\n",
    "SELECT dayname(order_time) AS date_order_time, COUNT(order_id) AS pizza_count\n",
    "FROM customer_orders_temp\n",
    "GROUP BY dayname(order_time)\n",
    "'''\n",
    "con.execute(partA_10).fetch_df()"
   ]
  }
 ]
}