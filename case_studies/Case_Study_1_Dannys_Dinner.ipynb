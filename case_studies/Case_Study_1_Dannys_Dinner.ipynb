{
 "metadata": {
  "language_info": {
   "codemirror_mode": {
    "name": "ipython",
    "version": 3
   },
   "file_extension": ".py",
   "mimetype": "text/x-python",
   "name": "python",
   "nbconvert_exporter": "python",
   "pygments_lexer": "ipython3",
   "version": "3.9.5"
  },
  "orig_nbformat": 2,
  "kernelspec": {
   "name": "python3",
   "display_name": "Python 3.9.5 64-bit",
   "metadata": {
    "interpreter": {
     "hash": "dcacb0086e9a4f4eabd41c33bf4faac5ea0a3337ed3f5eff0680afa930572c04"
    }
   }
  }
 },
 "nbformat": 4,
 "nbformat_minor": 2,
 "cells": [
  {
   "source": [
    "# CASE STUDY #1 - DANNY'S DINER "
   ],
   "cell_type": "markdown",
   "metadata": {}
  },
  {
   "source": [
    "<p align=\"center\">\n",
    "<img src=\"https://8weeksqlchallenge.com/images/case-study-designs/1.png\" style=\"border-radius:10%\" width=\"30%\" height=\"30%\">"
   ],
   "cell_type": "markdown",
   "metadata": {}
  },
  {
   "source": [
    "## Problem Statement\n",
    "---\n",
    "Danny seriously loves Japanese food so in the beginning of 2021, he decides to embark upon a risky venture and opens up a cute little restaurant that sells his 3 favourite foods: sushi, curry and ramen. \n",
    "Danny wants to use the data to answer a few simple questions about his customers.  He plans on using these insights to help him decide whether he should expand the existing customer loyalty program.\n",
    "\n",
    "\n",
    "Danny has provided you with a sample of his overall customer data due to privacy issues - but he hopes that these examples are enough for you to write fully functioning SQL queries to help him answer his questions!"
   ],
   "cell_type": "markdown",
   "metadata": {}
  },
  {
   "source": [
    "## Import Modules and Load to Use\n",
    "---"
   ],
   "cell_type": "markdown",
   "metadata": {}
  },
  {
   "cell_type": "code",
   "execution_count": 1,
   "metadata": {},
   "outputs": [],
   "source": [
    "import pandas as pd\n",
    "import duckdb\n",
    "from datetime import datetime, timedelta"
   ]
  },
  {
   "cell_type": "code",
   "execution_count": 2,
   "metadata": {},
   "outputs": [],
   "source": [
    "con = duckdb.connect(database=':memory:', read_only=False) # -> Tạo DB connection"
   ]
  },
  {
   "source": [
    "## Dataset\n",
    "---\n",
    "Danny has shared with you 3 key datasets for this case study:\n",
    "* sales\n",
    "* menu\n",
    "* members"
   ],
   "cell_type": "markdown",
   "metadata": {}
  },
  {
   "source": [
    "This is entity relationship diagram\n",
    "<p align=\"center\">\n",
    "<img src=\"../Image/entity_relationship_diagram_case_study_1.png\">"
   ],
   "cell_type": "markdown",
   "metadata": {}
  },
  {
   "source": [
    "## Table 1: sales\n",
    "\n",
    "The sales table captures all ```customer_id``` level purchases with an corresponding ```order_date``` and ```product_id``` information for when and what menu items were ordered"
   ],
   "cell_type": "markdown",
   "metadata": {}
  },
  {
   "cell_type": "code",
   "execution_count": 3,
   "metadata": {},
   "outputs": [
    {
     "output_type": "execute_result",
     "data": {
      "text/plain": [
       "   Count\n",
       "0     15"
      ],
      "text/html": "<div>\n<style scoped>\n    .dataframe tbody tr th:only-of-type {\n        vertical-align: middle;\n    }\n\n    .dataframe tbody tr th {\n        vertical-align: top;\n    }\n\n    .dataframe thead th {\n        text-align: right;\n    }\n</style>\n<table border=\"1\" class=\"dataframe\">\n  <thead>\n    <tr style=\"text-align: right;\">\n      <th></th>\n      <th>Count</th>\n    </tr>\n  </thead>\n  <tbody>\n    <tr>\n      <th>0</th>\n      <td>15</td>\n    </tr>\n  </tbody>\n</table>\n</div>"
     },
     "metadata": {},
     "execution_count": 3
    }
   ],
   "source": [
    "SQL1 = '''\n",
    "CREATE TABLE sales(\n",
    "  \"customer_id\" VARCHAR(1),\n",
    "  \"order_date\" DATE,\n",
    "  \"product_id\" INTEGER\n",
    ");\n",
    "INSERT INTO sales\n",
    "  (\"customer_id\", \"order_date\", \"product_id\")\n",
    "VALUES\n",
    "  ('A', '2021-01-01', '1'),\n",
    "  ('A', '2021-01-01', '2'),\n",
    "  ('A', '2021-01-07', '2'),\n",
    "  ('A', '2021-01-10', '3'),\n",
    "  ('A', '2021-01-11', '3'),\n",
    "  ('A', '2021-01-11', '3'),\n",
    "  ('B', '2021-01-01', '2'),\n",
    "  ('B', '2021-01-02', '2'),\n",
    "  ('B', '2021-01-04', '1'),\n",
    "  ('B', '2021-01-11', '1'),\n",
    "  ('B', '2021-01-16', '3'),\n",
    "  ('B', '2021-02-01', '3'),\n",
    "  ('C', '2021-01-01', '3'),\n",
    "  ('C', '2021-01-01', '3'),\n",
    "  ('C', '2021-01-07', '3');\n",
    "  '''\n",
    "con.execute(SQL1).fetch_df()"
   ]
  },
  {
   "cell_type": "code",
   "execution_count": 4,
   "metadata": {},
   "outputs": [
    {
     "output_type": "execute_result",
     "data": {
      "text/plain": [
       "   customer_id order_date  product_id\n",
       "0            A 2021-01-01           1\n",
       "1            A 2021-01-01           2\n",
       "2            A 2021-01-07           2\n",
       "3            A 2021-01-10           3\n",
       "4            A 2021-01-11           3\n",
       "5            A 2021-01-11           3\n",
       "6            B 2021-01-01           2\n",
       "7            B 2021-01-02           2\n",
       "8            B 2021-01-04           1\n",
       "9            B 2021-01-11           1\n",
       "10           B 2021-01-16           3\n",
       "11           B 2021-02-01           3\n",
       "12           C 2021-01-01           3\n",
       "13           C 2021-01-01           3\n",
       "14           C 2021-01-07           3"
      ],
      "text/html": "<div>\n<style scoped>\n    .dataframe tbody tr th:only-of-type {\n        vertical-align: middle;\n    }\n\n    .dataframe tbody tr th {\n        vertical-align: top;\n    }\n\n    .dataframe thead th {\n        text-align: right;\n    }\n</style>\n<table border=\"1\" class=\"dataframe\">\n  <thead>\n    <tr style=\"text-align: right;\">\n      <th></th>\n      <th>customer_id</th>\n      <th>order_date</th>\n      <th>product_id</th>\n    </tr>\n  </thead>\n  <tbody>\n    <tr>\n      <th>0</th>\n      <td>A</td>\n      <td>2021-01-01</td>\n      <td>1</td>\n    </tr>\n    <tr>\n      <th>1</th>\n      <td>A</td>\n      <td>2021-01-01</td>\n      <td>2</td>\n    </tr>\n    <tr>\n      <th>2</th>\n      <td>A</td>\n      <td>2021-01-07</td>\n      <td>2</td>\n    </tr>\n    <tr>\n      <th>3</th>\n      <td>A</td>\n      <td>2021-01-10</td>\n      <td>3</td>\n    </tr>\n    <tr>\n      <th>4</th>\n      <td>A</td>\n      <td>2021-01-11</td>\n      <td>3</td>\n    </tr>\n    <tr>\n      <th>5</th>\n      <td>A</td>\n      <td>2021-01-11</td>\n      <td>3</td>\n    </tr>\n    <tr>\n      <th>6</th>\n      <td>B</td>\n      <td>2021-01-01</td>\n      <td>2</td>\n    </tr>\n    <tr>\n      <th>7</th>\n      <td>B</td>\n      <td>2021-01-02</td>\n      <td>2</td>\n    </tr>\n    <tr>\n      <th>8</th>\n      <td>B</td>\n      <td>2021-01-04</td>\n      <td>1</td>\n    </tr>\n    <tr>\n      <th>9</th>\n      <td>B</td>\n      <td>2021-01-11</td>\n      <td>1</td>\n    </tr>\n    <tr>\n      <th>10</th>\n      <td>B</td>\n      <td>2021-01-16</td>\n      <td>3</td>\n    </tr>\n    <tr>\n      <th>11</th>\n      <td>B</td>\n      <td>2021-02-01</td>\n      <td>3</td>\n    </tr>\n    <tr>\n      <th>12</th>\n      <td>C</td>\n      <td>2021-01-01</td>\n      <td>3</td>\n    </tr>\n    <tr>\n      <th>13</th>\n      <td>C</td>\n      <td>2021-01-01</td>\n      <td>3</td>\n    </tr>\n    <tr>\n      <th>14</th>\n      <td>C</td>\n      <td>2021-01-07</td>\n      <td>3</td>\n    </tr>\n  </tbody>\n</table>\n</div>"
     },
     "metadata": {},
     "execution_count": 4
    }
   ],
   "source": [
    "SQL2 = '''\n",
    "SELECT * FROM sales\n",
    "'''\n",
    "con.execute(SQL2).fetch_df()"
   ]
  },
  {
   "source": [
    "## Table 2: menu\n",
    "The menu table maps the product_id to the actual product_name and price of each menu item."
   ],
   "cell_type": "markdown",
   "metadata": {}
  },
  {
   "cell_type": "code",
   "execution_count": 5,
   "metadata": {},
   "outputs": [
    {
     "output_type": "execute_result",
     "data": {
      "text/plain": [
       "   Count\n",
       "0      3"
      ],
      "text/html": "<div>\n<style scoped>\n    .dataframe tbody tr th:only-of-type {\n        vertical-align: middle;\n    }\n\n    .dataframe tbody tr th {\n        vertical-align: top;\n    }\n\n    .dataframe thead th {\n        text-align: right;\n    }\n</style>\n<table border=\"1\" class=\"dataframe\">\n  <thead>\n    <tr style=\"text-align: right;\">\n      <th></th>\n      <th>Count</th>\n    </tr>\n  </thead>\n  <tbody>\n    <tr>\n      <th>0</th>\n      <td>3</td>\n    </tr>\n  </tbody>\n</table>\n</div>"
     },
     "metadata": {},
     "execution_count": 5
    }
   ],
   "source": [
    "SQL3 = '''\n",
    "CREATE TABLE menu (\n",
    "  \"product_id\" INTEGER,\n",
    "  \"product_name\" VARCHAR(5),\n",
    "  \"price\" INTEGER\n",
    ");\n",
    "\n",
    "INSERT INTO menu\n",
    "  (\"product_id\", \"product_name\", \"price\")\n",
    "VALUES\n",
    "  ('1', 'sushi', '10'),\n",
    "  ('2', 'curry', '15'),\n",
    "  ('3', 'ramen', '12');\n",
    "'''\n",
    "con.execute(SQL3).fetch_df()"
   ]
  },
  {
   "cell_type": "code",
   "execution_count": 6,
   "metadata": {},
   "outputs": [
    {
     "output_type": "execute_result",
     "data": {
      "text/plain": [
       "   product_id product_name  price\n",
       "0           1        sushi     10\n",
       "1           2        curry     15\n",
       "2           3        ramen     12"
      ],
      "text/html": "<div>\n<style scoped>\n    .dataframe tbody tr th:only-of-type {\n        vertical-align: middle;\n    }\n\n    .dataframe tbody tr th {\n        vertical-align: top;\n    }\n\n    .dataframe thead th {\n        text-align: right;\n    }\n</style>\n<table border=\"1\" class=\"dataframe\">\n  <thead>\n    <tr style=\"text-align: right;\">\n      <th></th>\n      <th>product_id</th>\n      <th>product_name</th>\n      <th>price</th>\n    </tr>\n  </thead>\n  <tbody>\n    <tr>\n      <th>0</th>\n      <td>1</td>\n      <td>sushi</td>\n      <td>10</td>\n    </tr>\n    <tr>\n      <th>1</th>\n      <td>2</td>\n      <td>curry</td>\n      <td>15</td>\n    </tr>\n    <tr>\n      <th>2</th>\n      <td>3</td>\n      <td>ramen</td>\n      <td>12</td>\n    </tr>\n  </tbody>\n</table>\n</div>"
     },
     "metadata": {},
     "execution_count": 6
    }
   ],
   "source": [
    "SQL4 = '''\n",
    "SELECT * FROM menu \n",
    "'''\n",
    "con.execute(SQL4).fetch_df()"
   ]
  },
  {
   "source": [
    "## Table 3: members\n",
    "The final members table captures the join_date when a customer_id joined the beta version of the Danny’s Diner loyalty program."
   ],
   "cell_type": "markdown",
   "metadata": {}
  },
  {
   "cell_type": "code",
   "execution_count": 7,
   "metadata": {},
   "outputs": [
    {
     "output_type": "execute_result",
     "data": {
      "text/plain": [
       "   Count\n",
       "0      2"
      ],
      "text/html": "<div>\n<style scoped>\n    .dataframe tbody tr th:only-of-type {\n        vertical-align: middle;\n    }\n\n    .dataframe tbody tr th {\n        vertical-align: top;\n    }\n\n    .dataframe thead th {\n        text-align: right;\n    }\n</style>\n<table border=\"1\" class=\"dataframe\">\n  <thead>\n    <tr style=\"text-align: right;\">\n      <th></th>\n      <th>Count</th>\n    </tr>\n  </thead>\n  <tbody>\n    <tr>\n      <th>0</th>\n      <td>2</td>\n    </tr>\n  </tbody>\n</table>\n</div>"
     },
     "metadata": {},
     "execution_count": 7
    }
   ],
   "source": [
    "SQL5='''\n",
    "CREATE TABLE members (\n",
    "  \"customer_id\" VARCHAR(1),\n",
    "  \"join_date\" DATE\n",
    ");\n",
    "\n",
    "INSERT INTO members\n",
    "  (\"customer_id\", \"join_date\")\n",
    "VALUES\n",
    "  ('A', '2021-01-07'),\n",
    "  ('B', '2021-01-09');\n",
    "'''\n",
    "con.execute(SQL5).fetch_df()"
   ]
  },
  {
   "cell_type": "code",
   "execution_count": 8,
   "metadata": {},
   "outputs": [
    {
     "output_type": "execute_result",
     "data": {
      "text/plain": [
       "  customer_id  join_date\n",
       "0           A 2021-01-07\n",
       "1           B 2021-01-09"
      ],
      "text/html": "<div>\n<style scoped>\n    .dataframe tbody tr th:only-of-type {\n        vertical-align: middle;\n    }\n\n    .dataframe tbody tr th {\n        vertical-align: top;\n    }\n\n    .dataframe thead th {\n        text-align: right;\n    }\n</style>\n<table border=\"1\" class=\"dataframe\">\n  <thead>\n    <tr style=\"text-align: right;\">\n      <th></th>\n      <th>customer_id</th>\n      <th>join_date</th>\n    </tr>\n  </thead>\n  <tbody>\n    <tr>\n      <th>0</th>\n      <td>A</td>\n      <td>2021-01-07</td>\n    </tr>\n    <tr>\n      <th>1</th>\n      <td>B</td>\n      <td>2021-01-09</td>\n    </tr>\n  </tbody>\n</table>\n</div>"
     },
     "metadata": {},
     "execution_count": 8
    }
   ],
   "source": [
    "SQL6='''\n",
    "SELECT * FROM members\n",
    "'''\n",
    "con.execute(SQL6).fetch_df()"
   ]
  },
  {
   "source": [
    "## Case Study Questions\n",
    "---\n",
    "Each of the following case study questions can be answered using a single SQL statement:\n",
    "\n",
    "1. What is the total amount each customer spent at the restaurant?\n",
    "2. How many days has each customer visited the restaurant?\n",
    "3. What was the first item from the menu purchased by each customer?\n",
    "4. What is the most purchased item on the menu and how many times was it purchased by all customers?\n",
    "5. Which item was the most popular for each customer?\n",
    "6. Which item was purchased first by the customer after they became a member?\n",
    "7. Which item was purchased just before the customer became a member?\n",
    "8. What is the total items and amount spent for each member before they became a member?\n",
    "9. If each $1 spent equates to 10 points and sushi has a 2x points multiplier - how many points would each customer have?\n",
    "10. In the first week after a customer joins the program (including their join date) they earn 2x points on all items, not just sushi - how many points do customer A and B have at the end of January?"
   ],
   "cell_type": "markdown",
   "metadata": {}
  },
  {
   "source": [
    "## Solution\n",
    "---"
   ],
   "cell_type": "markdown",
   "metadata": {}
  },
  {
   "source": [
    "### 1. What is the total amount each customer spent at the restaurant?"
   ],
   "cell_type": "markdown",
   "metadata": {}
  },
  {
   "cell_type": "code",
   "execution_count": 9,
   "metadata": {},
   "outputs": [
    {
     "output_type": "execute_result",
     "data": {
      "text/plain": [
       "  customer_id  total_spent\n",
       "0           A         76.0\n",
       "1           B         74.0\n",
       "2           C         36.0"
      ],
      "text/html": "<div>\n<style scoped>\n    .dataframe tbody tr th:only-of-type {\n        vertical-align: middle;\n    }\n\n    .dataframe tbody tr th {\n        vertical-align: top;\n    }\n\n    .dataframe thead th {\n        text-align: right;\n    }\n</style>\n<table border=\"1\" class=\"dataframe\">\n  <thead>\n    <tr style=\"text-align: right;\">\n      <th></th>\n      <th>customer_id</th>\n      <th>total_spent</th>\n    </tr>\n  </thead>\n  <tbody>\n    <tr>\n      <th>0</th>\n      <td>A</td>\n      <td>76.0</td>\n    </tr>\n    <tr>\n      <th>1</th>\n      <td>B</td>\n      <td>74.0</td>\n    </tr>\n    <tr>\n      <th>2</th>\n      <td>C</td>\n      <td>36.0</td>\n    </tr>\n  </tbody>\n</table>\n</div>"
     },
     "metadata": {},
     "execution_count": 9
    }
   ],
   "source": [
    "SQL7='''\n",
    "SELECT \n",
    "\tsales.customer_id,\n",
    "  SUM(menu.price) AS total_spent\n",
    "FROM sales\n",
    "JOIN menu\n",
    "\tON sales.product_id = menu.product_id\n",
    "GROUP BY customer_id\n",
    "ORDER BY customer_id\n",
    "'''\n",
    "con.execute(SQL7).fetch_df()"
   ]
  },
  {
   "source": [
    "**Answer-01**:\n",
    "\n",
    "- Customer A spent $76\n",
    "- Customer B spent $74\n",
    "- Customer C spent $36"
   ],
   "cell_type": "markdown",
   "metadata": {}
  },
  {
   "source": [
    "### 2. How many days has each customer visited the restaurant?"
   ],
   "cell_type": "markdown",
   "metadata": {}
  },
  {
   "cell_type": "code",
   "execution_count": 10,
   "metadata": {},
   "outputs": [
    {
     "output_type": "execute_result",
     "data": {
      "text/plain": [
       "  customer_id  no_of_visit\n",
       "0           A            4\n",
       "1           B            6\n",
       "2           C            2"
      ],
      "text/html": "<div>\n<style scoped>\n    .dataframe tbody tr th:only-of-type {\n        vertical-align: middle;\n    }\n\n    .dataframe tbody tr th {\n        vertical-align: top;\n    }\n\n    .dataframe thead th {\n        text-align: right;\n    }\n</style>\n<table border=\"1\" class=\"dataframe\">\n  <thead>\n    <tr style=\"text-align: right;\">\n      <th></th>\n      <th>customer_id</th>\n      <th>no_of_visit</th>\n    </tr>\n  </thead>\n  <tbody>\n    <tr>\n      <th>0</th>\n      <td>A</td>\n      <td>4</td>\n    </tr>\n    <tr>\n      <th>1</th>\n      <td>B</td>\n      <td>6</td>\n    </tr>\n    <tr>\n      <th>2</th>\n      <td>C</td>\n      <td>2</td>\n    </tr>\n  </tbody>\n</table>\n</div>"
     },
     "metadata": {},
     "execution_count": 10
    }
   ],
   "source": [
    "SQL8='''\n",
    "SELECT customer_id, COUNT(DISTINCT(order_date)) AS no_of_visit\n",
    "FROM sales\n",
    "GROUP BY customer_id\n",
    "'''\n",
    "con.execute(SQL8).fetch_df()"
   ]
  },
  {
   "source": [
    "**Answer-02**:\n",
    "\n",
    "- Customer A has visited 4 days\n",
    "- Customer B has visited 6 days\n",
    "- Customer C has visited 2 days"
   ],
   "cell_type": "markdown",
   "metadata": {}
  },
  {
   "source": [
    "### 3. What was the first item from the menu purchased by each customer?"
   ],
   "cell_type": "markdown",
   "metadata": {}
  },
  {
   "cell_type": "code",
   "execution_count": 11,
   "metadata": {},
   "outputs": [
    {
     "output_type": "execute_result",
     "data": {
      "text/plain": [
       "  customer_id product_name\n",
       "0           A        sushi\n",
       "1           A        curry\n",
       "2           B        curry\n",
       "3           C        ramen"
      ],
      "text/html": "<div>\n<style scoped>\n    .dataframe tbody tr th:only-of-type {\n        vertical-align: middle;\n    }\n\n    .dataframe tbody tr th {\n        vertical-align: top;\n    }\n\n    .dataframe thead th {\n        text-align: right;\n    }\n</style>\n<table border=\"1\" class=\"dataframe\">\n  <thead>\n    <tr style=\"text-align: right;\">\n      <th></th>\n      <th>customer_id</th>\n      <th>product_name</th>\n    </tr>\n  </thead>\n  <tbody>\n    <tr>\n      <th>0</th>\n      <td>A</td>\n      <td>sushi</td>\n    </tr>\n    <tr>\n      <th>1</th>\n      <td>A</td>\n      <td>curry</td>\n    </tr>\n    <tr>\n      <th>2</th>\n      <td>B</td>\n      <td>curry</td>\n    </tr>\n    <tr>\n      <th>3</th>\n      <td>C</td>\n      <td>ramen</td>\n    </tr>\n  </tbody>\n</table>\n</div>"
     },
     "metadata": {},
     "execution_count": 11
    }
   ],
   "source": [
    "SQL9='''\n",
    "WITH rank AS(\n",
    "    SELECT \n",
    "    s.order_date,\n",
    "    s.customer_id, m.product_name,\n",
    "    RANK() OVER(PARTITION BY s.customer_id ORDER BY s.order_date ASC) AS rank\n",
    "    FROM sales s\n",
    "    JOIN menu m\n",
    "    ON s.product_id =m.product_id)\n",
    "SELECT customer_id, product_name\n",
    "FROM rank\n",
    "WHERE rank =1\n",
    "GROUP BY customer_id, product_name\n",
    "'''\n",
    "con.execute(SQL9).fetch_df()"
   ]
  },
  {
   "source": [
    "**Answer-03**:\n",
    "\n",
    "First item purchased by:\n",
    "- Customer A is sushi\n",
    "- Customer B is curry\n",
    "- Customer C is ramen"
   ],
   "cell_type": "markdown",
   "metadata": {}
  },
  {
   "source": [
    "### 4. What is the most purchased item on the menu and how many times was it purchased by all customers?"
   ],
   "cell_type": "markdown",
   "metadata": {}
  },
  {
   "cell_type": "code",
   "execution_count": 12,
   "metadata": {},
   "outputs": [
    {
     "output_type": "execute_result",
     "data": {
      "text/plain": [
       "  product_name  times\n",
       "0        ramen      8"
      ],
      "text/html": "<div>\n<style scoped>\n    .dataframe tbody tr th:only-of-type {\n        vertical-align: middle;\n    }\n\n    .dataframe tbody tr th {\n        vertical-align: top;\n    }\n\n    .dataframe thead th {\n        text-align: right;\n    }\n</style>\n<table border=\"1\" class=\"dataframe\">\n  <thead>\n    <tr style=\"text-align: right;\">\n      <th></th>\n      <th>product_name</th>\n      <th>times</th>\n    </tr>\n  </thead>\n  <tbody>\n    <tr>\n      <th>0</th>\n      <td>ramen</td>\n      <td>8</td>\n    </tr>\n  </tbody>\n</table>\n</div>"
     },
     "metadata": {},
     "execution_count": 12
    }
   ],
   "source": [
    "SQL10='''\n",
    "SELECT m.product_name, COUNT(s.product_id) AS  times\n",
    "FROM sales s\n",
    "JOIN menu m\n",
    "ON s.product_id = m.product_id\n",
    "GROUP BY m.product_name\n",
    "ORDER BY times DESC\n",
    "LIMIT 1\n",
    "'''\n",
    "con.execute(SQL10).fetch_df()"
   ]
  },
  {
   "source": [
    "**Answer-04**:\n",
    "\n",
    "- Most purchased item was ramen and it was ordered 8 times"
   ],
   "cell_type": "markdown",
   "metadata": {}
  },
  {
   "source": [
    "### 5.Which item was the most popular for each customer?"
   ],
   "cell_type": "markdown",
   "metadata": {}
  },
  {
   "cell_type": "code",
   "execution_count": 13,
   "metadata": {},
   "outputs": [
    {
     "output_type": "execute_result",
     "data": {
      "text/plain": [
       "  customer_id popular_items\n",
       "0           A         ramen\n",
       "1           B         curry\n",
       "2           B         sushi\n",
       "3           B         ramen\n",
       "4           C         ramen"
      ],
      "text/html": "<div>\n<style scoped>\n    .dataframe tbody tr th:only-of-type {\n        vertical-align: middle;\n    }\n\n    .dataframe tbody tr th {\n        vertical-align: top;\n    }\n\n    .dataframe thead th {\n        text-align: right;\n    }\n</style>\n<table border=\"1\" class=\"dataframe\">\n  <thead>\n    <tr style=\"text-align: right;\">\n      <th></th>\n      <th>customer_id</th>\n      <th>popular_items</th>\n    </tr>\n  </thead>\n  <tbody>\n    <tr>\n      <th>0</th>\n      <td>A</td>\n      <td>ramen</td>\n    </tr>\n    <tr>\n      <th>1</th>\n      <td>B</td>\n      <td>curry</td>\n    </tr>\n    <tr>\n      <th>2</th>\n      <td>B</td>\n      <td>sushi</td>\n    </tr>\n    <tr>\n      <th>3</th>\n      <td>B</td>\n      <td>ramen</td>\n    </tr>\n    <tr>\n      <th>4</th>\n      <td>C</td>\n      <td>ramen</td>\n    </tr>\n  </tbody>\n</table>\n</div>"
     },
     "metadata": {},
     "execution_count": 13
    }
   ],
   "source": [
    "SQL11='''\n",
    "WITH rank_items AS\n",
    "(\n",
    "    SELECT s.customer_id, m.product_name, COUNT(s.product_id),\n",
    "\tRANK() OVER(PARTITION BY s.customer_id ORDER BY COUNT(s.product_id) DESC) AS rank\n",
    "\tFROM sales s\n",
    "\tJOIN menu m\n",
    "    ON s.product_id = m.product_id\n",
    "\tGROUP BY s.customer_id, m.product_name\n",
    ")\n",
    "SELECT r.customer_id, r.product_name as popular_items\n",
    "FROM rank_items r\n",
    "WHERE rank = 1\n",
    "'''\n",
    "con.execute(SQL11).fetch_df()"
   ]
  },
  {
   "source": [
    "**Answer-05**:\n",
    "\n",
    "Most popular item for:\n",
    "- Customer A was ramen\n",
    "- Customer B was a tie between all three menu items\n",
    "- Customer C was ramen"
   ],
   "cell_type": "markdown",
   "metadata": {}
  },
  {
   "source": [
    "### 6. Which item was purchased first by the customer after they became a member?"
   ],
   "cell_type": "markdown",
   "metadata": {}
  },
  {
   "cell_type": "code",
   "execution_count": 14,
   "metadata": {},
   "outputs": [
    {
     "output_type": "execute_result",
     "data": {
      "text/plain": [
       "  customer_id product_name\n",
       "0           A        ramen\n",
       "1           B        sushi"
      ],
      "text/html": "<div>\n<style scoped>\n    .dataframe tbody tr th:only-of-type {\n        vertical-align: middle;\n    }\n\n    .dataframe tbody tr th {\n        vertical-align: top;\n    }\n\n    .dataframe thead th {\n        text-align: right;\n    }\n</style>\n<table border=\"1\" class=\"dataframe\">\n  <thead>\n    <tr style=\"text-align: right;\">\n      <th></th>\n      <th>customer_id</th>\n      <th>product_name</th>\n    </tr>\n  </thead>\n  <tbody>\n    <tr>\n      <th>0</th>\n      <td>A</td>\n      <td>ramen</td>\n    </tr>\n    <tr>\n      <th>1</th>\n      <td>B</td>\n      <td>sushi</td>\n    </tr>\n  </tbody>\n</table>\n</div>"
     },
     "metadata": {},
     "execution_count": 14
    }
   ],
   "source": [
    "SQL12='''\n",
    "WITH rank_items AS\n",
    "(\n",
    "    SELECT s.customer_id, s.order_date, mem.join_date ,m.product_name,\n",
    "    RANK() OVER(PARTITION BY s.customer_id ORDER BY s.order_date ASC) AS rank\n",
    "    FROM sales s\n",
    "    JOIN menu m\n",
    "    ON s.product_id = m.product_id\n",
    "    JOIN members mem\n",
    "    ON s.customer_id = mem.customer_id\n",
    "    WHERE s.order_date > mem.join_date\n",
    ")\n",
    "SELECT r.customer_id, r.product_name\n",
    "FROM rank_items r\n",
    "WHERE r.rank =1\n",
    "'''\n",
    "con.execute(SQL12).fetch_df()"
   ]
  },
  {
   "source": [
    "**Answer-06**:\n",
    "\n",
    "Only A and B are in membership and first product ordered after becoming a member for:\n",
    "- Customer A is ramen\n",
    "- Customer B is sushi"
   ],
   "cell_type": "markdown",
   "metadata": {}
  },
  {
   "source": [
    "### 7.Which item was purchased just before the customer became a member?"
   ],
   "cell_type": "markdown",
   "metadata": {}
  },
  {
   "cell_type": "code",
   "execution_count": 15,
   "metadata": {},
   "outputs": [
    {
     "output_type": "execute_result",
     "data": {
      "text/plain": [
       "  customer_id product_name\n",
       "0           A        sushi\n",
       "1           A        curry\n",
       "2           B        curry"
      ],
      "text/html": "<div>\n<style scoped>\n    .dataframe tbody tr th:only-of-type {\n        vertical-align: middle;\n    }\n\n    .dataframe tbody tr th {\n        vertical-align: top;\n    }\n\n    .dataframe thead th {\n        text-align: right;\n    }\n</style>\n<table border=\"1\" class=\"dataframe\">\n  <thead>\n    <tr style=\"text-align: right;\">\n      <th></th>\n      <th>customer_id</th>\n      <th>product_name</th>\n    </tr>\n  </thead>\n  <tbody>\n    <tr>\n      <th>0</th>\n      <td>A</td>\n      <td>sushi</td>\n    </tr>\n    <tr>\n      <th>1</th>\n      <td>A</td>\n      <td>curry</td>\n    </tr>\n    <tr>\n      <th>2</th>\n      <td>B</td>\n      <td>curry</td>\n    </tr>\n  </tbody>\n</table>\n</div>"
     },
     "metadata": {},
     "execution_count": 15
    }
   ],
   "source": [
    "SQL13='''\n",
    "WITH rank_items AS\n",
    "(\n",
    "    SELECT s.customer_id, s.order_date, mem.join_date ,m.product_name,\n",
    "    RANK() OVER(PARTITION BY s.customer_id ORDER BY s.order_date ASC) AS rank\n",
    "    FROM sales s\n",
    "    JOIN menu m\n",
    "    ON s.product_id = m.product_id\n",
    "    JOIN members mem\n",
    "    ON s.customer_id = mem.customer_id\n",
    "    WHERE s.order_date < mem.join_date\n",
    ")\n",
    "SELECT r.customer_id, r.product_name\n",
    "FROM rank_items r\n",
    "WHERE r.rank =1\n",
    "'''\n",
    "con.execute(SQL13).fetch_df()"
   ]
  },
  {
   "source": [
    "**Answer-07**:\n",
    "\n",
    "Last item purchased before becoming a member for:\n",
    "- Customer A was curry and sushi (iteams were purchased in a same day)\n",
    "- Customer B was sushi\n"
   ],
   "cell_type": "markdown",
   "metadata": {}
  },
  {
   "source": [
    "### 8. What is the total items and amount spent for each member before they became a member?"
   ],
   "cell_type": "markdown",
   "metadata": {}
  },
  {
   "cell_type": "code",
   "execution_count": 16,
   "metadata": {},
   "outputs": [
    {
     "output_type": "execute_result",
     "data": {
      "text/plain": [
       "  customer_id  count_items  total_price\n",
       "0           A            2         25.0\n",
       "1           B            3         40.0"
      ],
      "text/html": "<div>\n<style scoped>\n    .dataframe tbody tr th:only-of-type {\n        vertical-align: middle;\n    }\n\n    .dataframe tbody tr th {\n        vertical-align: top;\n    }\n\n    .dataframe thead th {\n        text-align: right;\n    }\n</style>\n<table border=\"1\" class=\"dataframe\">\n  <thead>\n    <tr style=\"text-align: right;\">\n      <th></th>\n      <th>customer_id</th>\n      <th>count_items</th>\n      <th>total_price</th>\n    </tr>\n  </thead>\n  <tbody>\n    <tr>\n      <th>0</th>\n      <td>A</td>\n      <td>2</td>\n      <td>25.0</td>\n    </tr>\n    <tr>\n      <th>1</th>\n      <td>B</td>\n      <td>3</td>\n      <td>40.0</td>\n    </tr>\n  </tbody>\n</table>\n</div>"
     },
     "metadata": {},
     "execution_count": 16
    }
   ],
   "source": [
    "SQL14='''\n",
    "SELECT s.customer_id, COUNT(m.product_name) AS count_items, SUM(m.price) AS total_price\n",
    "FROM sales s\n",
    "JOIN menu m\n",
    "ON s.product_id = m.product_id\n",
    "JOIN members mem\n",
    "ON s.customer_id = mem.customer_id\n",
    "WHERE s.order_date < mem.join_date\n",
    "GROUP BY s.customer_id\n",
    "'''\n",
    "con.execute(SQL14).fetch_df()"
   ]
  },
  {
   "source": [
    "### 9. If each $1 spent equates to 10 points and sushi has a 2x points multiplier - how many points would each customer have?"
   ],
   "cell_type": "markdown",
   "metadata": {}
  },
  {
   "cell_type": "code",
   "execution_count": 17,
   "metadata": {},
   "outputs": [
    {
     "output_type": "execute_result",
     "data": {
      "text/plain": [
       "  customer_id  total_points\n",
       "0           A         860.0\n",
       "1           B         940.0\n",
       "2           C         360.0"
      ],
      "text/html": "<div>\n<style scoped>\n    .dataframe tbody tr th:only-of-type {\n        vertical-align: middle;\n    }\n\n    .dataframe tbody tr th {\n        vertical-align: top;\n    }\n\n    .dataframe thead th {\n        text-align: right;\n    }\n</style>\n<table border=\"1\" class=\"dataframe\">\n  <thead>\n    <tr style=\"text-align: right;\">\n      <th></th>\n      <th>customer_id</th>\n      <th>total_points</th>\n    </tr>\n  </thead>\n  <tbody>\n    <tr>\n      <th>0</th>\n      <td>A</td>\n      <td>860.0</td>\n    </tr>\n    <tr>\n      <th>1</th>\n      <td>B</td>\n      <td>940.0</td>\n    </tr>\n    <tr>\n      <th>2</th>\n      <td>C</td>\n      <td>360.0</td>\n    </tr>\n  </tbody>\n</table>\n</div>"
     },
     "metadata": {},
     "execution_count": 17
    }
   ],
   "source": [
    "SQL15='''\n",
    "SELECT s.customer_id, \n",
    "SUM(CASE \n",
    "        WHEN m.product_name <> 'sushi' \n",
    "        THEN (m.price*10) \n",
    "        ELSE (m.price*20) \n",
    "    END ) AS total_points\n",
    "FROM sales s \n",
    "JOIN menu m \n",
    "ON s.product_id = m.product_id\n",
    "GROUP BY s.customer_id\n",
    "'''\n",
    "con.execute(SQL15).fetch_df()"
   ]
  },
  {
   "cell_type": "code",
   "execution_count": 18,
   "metadata": {},
   "outputs": [
    {
     "output_type": "execute_result",
     "data": {
      "text/plain": [
       "  customer_id  total_points\n",
       "0           A         860.0\n",
       "1           B         940.0\n",
       "2           C         360.0"
      ],
      "text/html": "<div>\n<style scoped>\n    .dataframe tbody tr th:only-of-type {\n        vertical-align: middle;\n    }\n\n    .dataframe tbody tr th {\n        vertical-align: top;\n    }\n\n    .dataframe thead th {\n        text-align: right;\n    }\n</style>\n<table border=\"1\" class=\"dataframe\">\n  <thead>\n    <tr style=\"text-align: right;\">\n      <th></th>\n      <th>customer_id</th>\n      <th>total_points</th>\n    </tr>\n  </thead>\n  <tbody>\n    <tr>\n      <th>0</th>\n      <td>A</td>\n      <td>860.0</td>\n    </tr>\n    <tr>\n      <th>1</th>\n      <td>B</td>\n      <td>940.0</td>\n    </tr>\n    <tr>\n      <th>2</th>\n      <td>C</td>\n      <td>360.0</td>\n    </tr>\n  </tbody>\n</table>\n</div>"
     },
     "metadata": {},
     "execution_count": 18
    }
   ],
   "source": [
    "SQL16='''\n",
    "SELECT s.customer_id, SUM(IF(s.product_id = 1, m.price*20, m.price*10)) as total_points\n",
    "FROM sales s\n",
    "JOIN menu  m\n",
    "ON s.product_id=m.product_id\n",
    "GROUP BY s.customer_id\n",
    "'''\n",
    "con.execute(SQL16).fetch_df()"
   ]
  },
  {
   "source": [
    "<u>Answer-09</u>:\n",
    "\n",
    "- Customer A has 860 points\n",
    "- Customer B has 940 points\n",
    "- Customer C has 360 points"
   ],
   "cell_type": "markdown",
   "metadata": {}
  },
  {
   "source": [
    "### 10. In the first week after a customer joins the program (including their join date) they earn 2x points on all items, not just sushi - how many points do customer A and B have at the end of January?"
   ],
   "cell_type": "markdown",
   "metadata": {}
  },
  {
   "cell_type": "code",
   "execution_count": 19,
   "metadata": {},
   "outputs": [
    {
     "output_type": "execute_result",
     "data": {
      "text/plain": [
       "  customer_id  total_points\n",
       "0           A        1370.0\n",
       "1           B         820.0"
      ],
      "text/html": "<div>\n<style scoped>\n    .dataframe tbody tr th:only-of-type {\n        vertical-align: middle;\n    }\n\n    .dataframe tbody tr th {\n        vertical-align: top;\n    }\n\n    .dataframe thead th {\n        text-align: right;\n    }\n</style>\n<table border=\"1\" class=\"dataframe\">\n  <thead>\n    <tr style=\"text-align: right;\">\n      <th></th>\n      <th>customer_id</th>\n      <th>total_points</th>\n    </tr>\n  </thead>\n  <tbody>\n    <tr>\n      <th>0</th>\n      <td>A</td>\n      <td>1370.0</td>\n    </tr>\n    <tr>\n      <th>1</th>\n      <td>B</td>\n      <td>820.0</td>\n    </tr>\n  </tbody>\n</table>\n</div>"
     },
     "metadata": {},
     "execution_count": 19
    }
   ],
   "source": [
    "SQL17 = '''\n",
    "WITH points AS(\n",
    "    SELECT me.customer_id, s.order_date, me.join_date, me.join_date + INTERVAL 6 DAY AS valid_date,\n",
    "    m.product_name, m.price,\n",
    "    SUM(CASE\n",
    "        WHEN m.product_name = 'sushi' THEN 2 * 10 * m.price\n",
    "        WHEN s.order_date BETWEEN me.join_date AND (me.join_date + INTERVAL 6 DAY) THEN 2 * 10 * m.price\n",
    "        ELSE 10 * m.price\n",
    "        END\n",
    "        ) AS points   \n",
    "    FROM sales s\n",
    "    JOIN members me\n",
    "    ON s.customer_id=me.customer_id\n",
    "    JOIN menu m\n",
    "    ON s.product_id = m.product_id\n",
    "    WHERE s.order_date < '2021-01-31'\n",
    "    GROUP BY me.customer_id, s.order_date, me.join_date, me.join_date + INTERVAL 6 DAY, m.product_name,     m.price\n",
    "    )\n",
    "SELECT customer_id, SUM(points) AS total_points\n",
    "FROM points\n",
    "GROUP BY customer_id\n",
    "'''\n",
    "con.execute(SQL17).fetch_df()"
   ]
  },
  {
   "source": [
    "<u>Answer-10</u>:\n",
    "\n",
    "- Customer A has 1370 points\n",
    "- Customer B has 820 points"
   ],
   "cell_type": "markdown",
   "metadata": {}
  },
  {
   "source": [
    "## Bonus Questions\n",
    "---"
   ],
   "cell_type": "markdown",
   "metadata": {}
  },
  {
   "source": [
    "### Join All The Things\n",
    "Creating basic data tables that are used to quickly derive insights without needing to join the underlying tables using SQL"
   ],
   "cell_type": "markdown",
   "metadata": {}
  },
  {
   "cell_type": "code",
   "execution_count": 20,
   "metadata": {},
   "outputs": [
    {
     "output_type": "execute_result",
     "data": {
      "text/plain": [
       "   customer_id order_date product_name  price member\n",
       "0            A 2021-01-01        sushi     10      N\n",
       "1            A 2021-01-01        curry     15      N\n",
       "2            A 2021-01-07        curry     15      Y\n",
       "3            A 2021-01-10        ramen     12      Y\n",
       "4            A 2021-01-11        ramen     12      Y\n",
       "5            A 2021-01-11        ramen     12      Y\n",
       "6            B 2021-01-01        curry     15      N\n",
       "7            B 2021-01-02        curry     15      N\n",
       "8            B 2021-01-04        sushi     10      N\n",
       "9            B 2021-01-11        sushi     10      Y\n",
       "10           B 2021-01-16        ramen     12      Y\n",
       "11           B 2021-02-01        ramen     12      Y\n",
       "12           C 2021-01-01        ramen     12      N\n",
       "13           C 2021-01-01        ramen     12      N\n",
       "14           C 2021-01-07        ramen     12      N"
      ],
      "text/html": "<div>\n<style scoped>\n    .dataframe tbody tr th:only-of-type {\n        vertical-align: middle;\n    }\n\n    .dataframe tbody tr th {\n        vertical-align: top;\n    }\n\n    .dataframe thead th {\n        text-align: right;\n    }\n</style>\n<table border=\"1\" class=\"dataframe\">\n  <thead>\n    <tr style=\"text-align: right;\">\n      <th></th>\n      <th>customer_id</th>\n      <th>order_date</th>\n      <th>product_name</th>\n      <th>price</th>\n      <th>member</th>\n    </tr>\n  </thead>\n  <tbody>\n    <tr>\n      <th>0</th>\n      <td>A</td>\n      <td>2021-01-01</td>\n      <td>sushi</td>\n      <td>10</td>\n      <td>N</td>\n    </tr>\n    <tr>\n      <th>1</th>\n      <td>A</td>\n      <td>2021-01-01</td>\n      <td>curry</td>\n      <td>15</td>\n      <td>N</td>\n    </tr>\n    <tr>\n      <th>2</th>\n      <td>A</td>\n      <td>2021-01-07</td>\n      <td>curry</td>\n      <td>15</td>\n      <td>Y</td>\n    </tr>\n    <tr>\n      <th>3</th>\n      <td>A</td>\n      <td>2021-01-10</td>\n      <td>ramen</td>\n      <td>12</td>\n      <td>Y</td>\n    </tr>\n    <tr>\n      <th>4</th>\n      <td>A</td>\n      <td>2021-01-11</td>\n      <td>ramen</td>\n      <td>12</td>\n      <td>Y</td>\n    </tr>\n    <tr>\n      <th>5</th>\n      <td>A</td>\n      <td>2021-01-11</td>\n      <td>ramen</td>\n      <td>12</td>\n      <td>Y</td>\n    </tr>\n    <tr>\n      <th>6</th>\n      <td>B</td>\n      <td>2021-01-01</td>\n      <td>curry</td>\n      <td>15</td>\n      <td>N</td>\n    </tr>\n    <tr>\n      <th>7</th>\n      <td>B</td>\n      <td>2021-01-02</td>\n      <td>curry</td>\n      <td>15</td>\n      <td>N</td>\n    </tr>\n    <tr>\n      <th>8</th>\n      <td>B</td>\n      <td>2021-01-04</td>\n      <td>sushi</td>\n      <td>10</td>\n      <td>N</td>\n    </tr>\n    <tr>\n      <th>9</th>\n      <td>B</td>\n      <td>2021-01-11</td>\n      <td>sushi</td>\n      <td>10</td>\n      <td>Y</td>\n    </tr>\n    <tr>\n      <th>10</th>\n      <td>B</td>\n      <td>2021-01-16</td>\n      <td>ramen</td>\n      <td>12</td>\n      <td>Y</td>\n    </tr>\n    <tr>\n      <th>11</th>\n      <td>B</td>\n      <td>2021-02-01</td>\n      <td>ramen</td>\n      <td>12</td>\n      <td>Y</td>\n    </tr>\n    <tr>\n      <th>12</th>\n      <td>C</td>\n      <td>2021-01-01</td>\n      <td>ramen</td>\n      <td>12</td>\n      <td>N</td>\n    </tr>\n    <tr>\n      <th>13</th>\n      <td>C</td>\n      <td>2021-01-01</td>\n      <td>ramen</td>\n      <td>12</td>\n      <td>N</td>\n    </tr>\n    <tr>\n      <th>14</th>\n      <td>C</td>\n      <td>2021-01-07</td>\n      <td>ramen</td>\n      <td>12</td>\n      <td>N</td>\n    </tr>\n  </tbody>\n</table>\n</div>"
     },
     "metadata": {},
     "execution_count": 20
    }
   ],
   "source": [
    "table1='''\n",
    "SELECT s.customer_id, s.order_date, m.product_name, m.price, IF(s.order_date >=me.join_date, 'Y','N') AS member\n",
    "FROM sales s\n",
    "LEFT JOIN members me\n",
    "ON s.customer_id=me.customer_id\n",
    "LEFT JOIN menu m\n",
    "ON s.product_id = m.product_id\n",
    "'''\n",
    "con.execute(table1).fetch_df()"
   ]
  },
  {
   "source": [
    "### Rank All The Things\n",
    "Ranking customer products, but not need the ranking for non-member purchases so fill in null ranking values for the records when customers are not yet part of the loyalty program."
   ],
   "cell_type": "markdown",
   "metadata": {}
  },
  {
   "cell_type": "code",
   "execution_count": 21,
   "metadata": {},
   "outputs": [
    {
     "output_type": "execute_result",
     "data": {
      "text/plain": [
       "   customer_id order_date product_name  price member  ranking\n",
       "0            B 2021-01-11        sushi     10      Y      1.0\n",
       "1            B 2021-01-16        ramen     12      Y      2.0\n",
       "2            B 2021-02-01        ramen     12      Y      3.0\n",
       "3            B 2021-01-01        curry     15      N      NaN\n",
       "4            B 2021-01-02        curry     15      N      NaN\n",
       "5            B 2021-01-04        sushi     10      N      NaN\n",
       "6            C 2021-01-01        ramen     12      N      NaN\n",
       "7            C 2021-01-01        ramen     12      N      NaN\n",
       "8            C 2021-01-07        ramen     12      N      NaN\n",
       "9            A 2021-01-01        sushi     10      N      NaN\n",
       "10           A 2021-01-01        curry     15      N      NaN\n",
       "11           A 2021-01-07        curry     15      Y      1.0\n",
       "12           A 2021-01-10        ramen     12      Y      2.0\n",
       "13           A 2021-01-11        ramen     12      Y      3.0\n",
       "14           A 2021-01-11        ramen     12      Y      3.0"
      ],
      "text/html": "<div>\n<style scoped>\n    .dataframe tbody tr th:only-of-type {\n        vertical-align: middle;\n    }\n\n    .dataframe tbody tr th {\n        vertical-align: top;\n    }\n\n    .dataframe thead th {\n        text-align: right;\n    }\n</style>\n<table border=\"1\" class=\"dataframe\">\n  <thead>\n    <tr style=\"text-align: right;\">\n      <th></th>\n      <th>customer_id</th>\n      <th>order_date</th>\n      <th>product_name</th>\n      <th>price</th>\n      <th>member</th>\n      <th>ranking</th>\n    </tr>\n  </thead>\n  <tbody>\n    <tr>\n      <th>0</th>\n      <td>B</td>\n      <td>2021-01-11</td>\n      <td>sushi</td>\n      <td>10</td>\n      <td>Y</td>\n      <td>1.0</td>\n    </tr>\n    <tr>\n      <th>1</th>\n      <td>B</td>\n      <td>2021-01-16</td>\n      <td>ramen</td>\n      <td>12</td>\n      <td>Y</td>\n      <td>2.0</td>\n    </tr>\n    <tr>\n      <th>2</th>\n      <td>B</td>\n      <td>2021-02-01</td>\n      <td>ramen</td>\n      <td>12</td>\n      <td>Y</td>\n      <td>3.0</td>\n    </tr>\n    <tr>\n      <th>3</th>\n      <td>B</td>\n      <td>2021-01-01</td>\n      <td>curry</td>\n      <td>15</td>\n      <td>N</td>\n      <td>NaN</td>\n    </tr>\n    <tr>\n      <th>4</th>\n      <td>B</td>\n      <td>2021-01-02</td>\n      <td>curry</td>\n      <td>15</td>\n      <td>N</td>\n      <td>NaN</td>\n    </tr>\n    <tr>\n      <th>5</th>\n      <td>B</td>\n      <td>2021-01-04</td>\n      <td>sushi</td>\n      <td>10</td>\n      <td>N</td>\n      <td>NaN</td>\n    </tr>\n    <tr>\n      <th>6</th>\n      <td>C</td>\n      <td>2021-01-01</td>\n      <td>ramen</td>\n      <td>12</td>\n      <td>N</td>\n      <td>NaN</td>\n    </tr>\n    <tr>\n      <th>7</th>\n      <td>C</td>\n      <td>2021-01-01</td>\n      <td>ramen</td>\n      <td>12</td>\n      <td>N</td>\n      <td>NaN</td>\n    </tr>\n    <tr>\n      <th>8</th>\n      <td>C</td>\n      <td>2021-01-07</td>\n      <td>ramen</td>\n      <td>12</td>\n      <td>N</td>\n      <td>NaN</td>\n    </tr>\n    <tr>\n      <th>9</th>\n      <td>A</td>\n      <td>2021-01-01</td>\n      <td>sushi</td>\n      <td>10</td>\n      <td>N</td>\n      <td>NaN</td>\n    </tr>\n    <tr>\n      <th>10</th>\n      <td>A</td>\n      <td>2021-01-01</td>\n      <td>curry</td>\n      <td>15</td>\n      <td>N</td>\n      <td>NaN</td>\n    </tr>\n    <tr>\n      <th>11</th>\n      <td>A</td>\n      <td>2021-01-07</td>\n      <td>curry</td>\n      <td>15</td>\n      <td>Y</td>\n      <td>1.0</td>\n    </tr>\n    <tr>\n      <th>12</th>\n      <td>A</td>\n      <td>2021-01-10</td>\n      <td>ramen</td>\n      <td>12</td>\n      <td>Y</td>\n      <td>2.0</td>\n    </tr>\n    <tr>\n      <th>13</th>\n      <td>A</td>\n      <td>2021-01-11</td>\n      <td>ramen</td>\n      <td>12</td>\n      <td>Y</td>\n      <td>3.0</td>\n    </tr>\n    <tr>\n      <th>14</th>\n      <td>A</td>\n      <td>2021-01-11</td>\n      <td>ramen</td>\n      <td>12</td>\n      <td>Y</td>\n      <td>3.0</td>\n    </tr>\n  </tbody>\n</table>\n</div>"
     },
     "metadata": {},
     "execution_count": 21
    }
   ],
   "source": [
    "table2='''\n",
    "WITH main_table AS(\n",
    "    SELECT s.customer_id, s.order_date, m.product_name, m.price, IF(s.order_date >=me.join_date, 'Y',       'N') AS member\n",
    "    FROM sales s\n",
    "    LEFT JOIN members me\n",
    "    ON s.customer_id=me.customer_id\n",
    "    LEFT JOIN menu m\n",
    "    ON s.product_id = m.product_id\n",
    ")\n",
    "SELECT *, \n",
    "CASE\n",
    "WHEN member = 'N' then NULL\n",
    "ELSE RANK () OVER(PARTITION BY customer_id, member ORDER BY order_date) END AS ranking\n",
    "FROM main_table\n",
    "'''\n",
    "con.execute(table2).fetch_df()"
   ]
  }
 ]
}